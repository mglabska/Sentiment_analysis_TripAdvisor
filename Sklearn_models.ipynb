{
 "cells": [
  {
   "cell_type": "code",
   "execution_count": 1,
   "metadata": {},
   "outputs": [],
   "source": [
    "import numpy as np\n",
    "import pandas as pd\n",
    "from sklearn.feature_extraction.text import TfidfVectorizer\n",
    "from sklearn.linear_model import LogisticRegression\n",
    "from sklearn.metrics import precision_score, recall_score, f1_score, cohen_kappa_score, classification_report\n",
    "from sklearn.model_selection import train_test_split\n",
    "from sklearn.naive_bayes import GaussianNB, BernoulliNB, CategoricalNB\n",
    "from sklearn.neighbors import KNeighborsClassifier"
   ]
  },
  {
   "cell_type": "code",
   "execution_count": 2,
   "metadata": {},
   "outputs": [],
   "source": [
    "data = pd.read_csv('data\\preprocessed.csv').dropna()"
   ]
  },
  {
   "cell_type": "code",
   "execution_count": 3,
   "metadata": {},
   "outputs": [],
   "source": [
    "X = data[\"Reviews_cleaned\"]\n",
    "y = data[\"Category\"]"
   ]
  },
  {
   "cell_type": "code",
   "execution_count": 4,
   "metadata": {},
   "outputs": [],
   "source": [
    "X_train, X_test, y_train, y_test = train_test_split(X, y, test_size=0.2, random_state=42, stratify=y)\n",
    "vectorizer = TfidfVectorizer(lowercase=False)\n",
    "vectorizer.fit(X_train)\n",
    "X_train = vectorizer.transform(X_train)\n",
    "X_test = vectorizer.transform(X_test)"
   ]
  },
  {
   "cell_type": "code",
   "execution_count": 5,
   "metadata": {},
   "outputs": [
    {
     "name": "stdout",
     "output_type": "stream",
     "text": [
      "Wyniki dla regresji logistycznej:\n",
      "              precision    recall  f1-score   support\n",
      "\n",
      "         0.0       0.80      0.47      0.59      2485\n",
      "         1.0       0.80      0.95      0.87      5620\n",
      "\n",
      "    accuracy                           0.80      8105\n",
      "   macro avg       0.80      0.71      0.73      8105\n",
      "weighted avg       0.80      0.80      0.78      8105\n",
      "\n",
      "cohen_kappa_score: 0.47045205529298084\n",
      "f1_score: 0.868189233278956\n"
     ]
    },
    {
     "name": "stderr",
     "output_type": "stream",
     "text": [
      "C:\\Users\\admin\\anaconda3\\lib\\site-packages\\sklearn\\linear_model\\_logistic.py:814: ConvergenceWarning: lbfgs failed to converge (status=1):\n",
      "STOP: TOTAL NO. of ITERATIONS REACHED LIMIT.\n",
      "\n",
      "Increase the number of iterations (max_iter) or scale the data as shown in:\n",
      "    https://scikit-learn.org/stable/modules/preprocessing.html\n",
      "Please also refer to the documentation for alternative solver options:\n",
      "    https://scikit-learn.org/stable/modules/linear_model.html#logistic-regression\n",
      "  n_iter_i = _check_optimize_result(\n"
     ]
    }
   ],
   "source": [
    "model_logreg = LogisticRegression(random_state=0).fit(X_train, y_train)\n",
    "y_true_logreg = y_test\n",
    "y_pred_logreg = model_logreg.predict(X_test)\n",
    "print('Wyniki dla regresji logistycznej:')\n",
    "print(classification_report(y_true_logreg, y_pred_logreg))\n",
    "print(f'cohen_kappa_score: {cohen_kappa_score(y_true_logreg, y_pred_logreg)}')\n",
    "print(f'f1_score: {f1_score(y_true_logreg, y_pred_logreg)}')"
   ]
  },
  {
   "cell_type": "code",
   "execution_count": 6,
   "metadata": {},
   "outputs": [
    {
     "name": "stdout",
     "output_type": "stream",
     "text": [
      "Wyniki dla KNN:\n",
      "              precision    recall  f1-score   support\n",
      "\n",
      "         0.0       0.65      0.45      0.53      2485\n",
      "         1.0       0.79      0.89      0.84      5620\n",
      "\n",
      "    accuracy                           0.76      8105\n",
      "   macro avg       0.72      0.67      0.68      8105\n",
      "weighted avg       0.74      0.76      0.74      8105\n",
      "\n",
      "cohen_kappa_score: 0.37324733193895265\n",
      "f1_score: 0.8357339105819667\n"
     ]
    }
   ],
   "source": [
    "model_knn = KNeighborsClassifier(n_neighbors=20)\n",
    "model_knn.fit(X_train, y_train)\n",
    "y_true_knn = y_test\n",
    "y_pred_knn = model_knn.predict(X_test)\n",
    "print('Wyniki dla KNN:')\n",
    "print(classification_report(y_true_knn, y_pred_knn))\n",
    "print(f'cohen_kappa_score: {cohen_kappa_score(y_true_knn, y_pred_knn)}')\n",
    "print(f'f1_score: {f1_score(y_true_knn, y_pred_knn)}')"
   ]
  },
  {
   "cell_type": "code",
   "execution_count": 7,
   "metadata": {},
   "outputs": [
    {
     "name": "stdout",
     "output_type": "stream",
     "text": [
      "Wyniki dla NB:\n",
      "              precision    recall  f1-score   support\n",
      "\n",
      "         0.0       0.80      0.46      0.58      2485\n",
      "         1.0       0.80      0.95      0.87      5620\n",
      "\n",
      "    accuracy                           0.80      8105\n",
      "   macro avg       0.80      0.70      0.72      8105\n",
      "weighted avg       0.80      0.80      0.78      8105\n",
      "\n",
      "cohen_kappa_score: 0.46113858717212675\n",
      "f1_score: 0.8672623883021934\n"
     ]
    }
   ],
   "source": [
    "model_nb = BernoulliNB()\n",
    "model_nb.fit(X_train, y_train)\n",
    "y_true_nb = y_test\n",
    "y_pred_nb = model_nb.predict(X_test)\n",
    "print('Wyniki dla NB:')\n",
    "print(classification_report(y_true_nb, y_pred_nb))\n",
    "print(f'cohen_kappa_score: {cohen_kappa_score(y_true_nb, y_pred_nb)}')\n",
    "print(f'f1_score: {f1_score(y_true_nb, y_pred_nb)}')"
   ]
  }
 ],
 "metadata": {
  "kernelspec": {
   "display_name": "Python 3 (ipykernel)",
   "language": "python",
   "name": "python3"
  },
  "language_info": {
   "codemirror_mode": {
    "name": "ipython",
    "version": 3
   },
   "file_extension": ".py",
   "mimetype": "text/x-python",
   "name": "python",
   "nbconvert_exporter": "python",
   "pygments_lexer": "ipython3",
   "version": "3.8.3"
  }
 },
 "nbformat": 4,
 "nbformat_minor": 4
}
