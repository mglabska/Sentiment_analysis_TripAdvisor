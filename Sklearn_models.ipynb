{
 "cells": [
  {
   "cell_type": "code",
   "execution_count": 1,
   "metadata": {},
   "outputs": [],
   "source": [
    "import numpy as np\n",
    "import pandas as pd\n",
    "from sklearn.feature_extraction.text import TfidfVectorizer\n",
    "from sklearn.linear_model import LogisticRegression\n",
    "from sklearn.metrics import precision_score, recall_score, f1_score, cohen_kappa_score, classification_report\n",
    "from sklearn.model_selection import train_test_split\n",
    "from sklearn.naive_bayes import GaussianNB, BernoulliNB, CategoricalNB\n",
    "from sklearn.neighbors import KNeighborsClassifier"
   ]
  },
  {
   "cell_type": "code",
   "execution_count": 2,
   "metadata": {},
   "outputs": [],
   "source": [
    "data = pd.read_csv('data\\preprocessed.csv').dropna()"
   ]
  },
  {
   "cell_type": "code",
   "execution_count": 3,
   "metadata": {},
   "outputs": [],
   "source": [
    "X = data[\"Reviews_cleaned\"]\n",
    "y = data[\"Category\"]"
   ]
  },
  {
   "cell_type": "code",
   "execution_count": 4,
   "metadata": {},
   "outputs": [],
   "source": [
    "X_train, X_test, y_train, y_test = train_test_split(X, y, test_size=0.2, random_state=42, stratify=y)\n",
    "vectorizer = TfidfVectorizer(lowercase=False)\n",
    "vectorizer.fit(X_train)\n",
    "X_train = vectorizer.transform(X_train)\n",
    "X_test = vectorizer.transform(X_test)"
   ]
  },
  {
   "cell_type": "code",
   "execution_count": 5,
   "metadata": {},
   "outputs": [
    {
     "name": "stdout",
     "output_type": "stream",
     "text": [
      "Wyniki dla regresji logistycznej:\n",
      "              precision    recall  f1-score   support\n",
      "\n",
      "         0.0       0.81      0.48      0.61      2509\n",
      "         1.0       0.80      0.95      0.87      5631\n",
      "\n",
      "    accuracy                           0.81      8140\n",
      "   macro avg       0.81      0.72      0.74      8140\n",
      "weighted avg       0.81      0.81      0.79      8140\n",
      "\n",
      "cohen_kappa_score: 0.4878045687718262\n",
      "f1_score: 0.871498371335505\n"
     ]
    }
   ],
   "source": [
    "model_logreg = LogisticRegression(random_state=0).fit(X_train, y_train)\n",
    "y_true_logreg = y_test\n",
    "y_pred_logreg = model_logreg.predict(X_test)\n",
    "print('Wyniki dla regresji logistycznej:')\n",
    "print(classification_report(y_true_logreg, y_pred_logreg))\n",
    "print(f'cohen_kappa_score: {cohen_kappa_score(y_true_logreg, y_pred_logreg)}')\n",
    "print(f'f1_score: {f1_score(y_true_logreg, y_pred_logreg)}')"
   ]
  },
  {
   "cell_type": "code",
   "execution_count": 6,
   "metadata": {},
   "outputs": [
    {
     "name": "stdout",
     "output_type": "stream",
     "text": [
      "Wyniki dla KNN:\n",
      "              precision    recall  f1-score   support\n",
      "\n",
      "         0.0       0.58      0.53      0.55      2509\n",
      "         1.0       0.80      0.83      0.81      5631\n",
      "\n",
      "    accuracy                           0.74      8140\n",
      "   macro avg       0.69      0.68      0.68      8140\n",
      "weighted avg       0.73      0.74      0.73      8140\n",
      "\n",
      "cohen_kappa_score: 0.36633637006145825\n",
      "f1_score: 0.8121836271600629\n"
     ]
    }
   ],
   "source": [
    "model_knn = KNeighborsClassifier(n_neighbors=20)\n",
    "model_knn.fit(X_train, y_train)\n",
    "y_true_knn = y_test\n",
    "y_pred_knn = model_knn.predict(X_test)\n",
    "print('Wyniki dla KNN:')\n",
    "print(classification_report(y_true_knn, y_pred_knn))\n",
    "print(f'cohen_kappa_score: {cohen_kappa_score(y_true_knn, y_pred_knn)}')\n",
    "print(f'f1_score: {f1_score(y_true_knn, y_pred_knn)}')"
   ]
  },
  {
   "cell_type": "code",
   "execution_count": 7,
   "metadata": {},
   "outputs": [
    {
     "name": "stdout",
     "output_type": "stream",
     "text": [
      "Wyniki dla NB:\n",
      "              precision    recall  f1-score   support\n",
      "\n",
      "         0.0       0.81      0.46      0.59      2509\n",
      "         1.0       0.80      0.95      0.87      5631\n",
      "\n",
      "    accuracy                           0.80      8140\n",
      "   macro avg       0.81      0.71      0.73      8140\n",
      "weighted avg       0.80      0.80      0.78      8140\n",
      "\n",
      "cohen_kappa_score: 0.4719161640950392\n",
      "f1_score: 0.8691141907772104\n"
     ]
    }
   ],
   "source": [
    "model_nb = BernoulliNB()\n",
    "model_nb.fit(X_train, y_train)\n",
    "y_true_nb = y_test\n",
    "y_pred_nb = model_nb.predict(X_test)\n",
    "print('Wyniki dla NB:')\n",
    "print(classification_report(y_true_nb, y_pred_nb))\n",
    "print(f'cohen_kappa_score: {cohen_kappa_score(y_true_nb, y_pred_nb)}')\n",
    "print(f'f1_score: {f1_score(y_true_nb, y_pred_nb)}')"
   ]
  }
 ],
 "metadata": {
  "kernelspec": {
   "display_name": "Python 3 (ipykernel)",
   "language": "python",
   "name": "python3"
  },
  "language_info": {
   "codemirror_mode": {
    "name": "ipython",
    "version": 3
   },
   "file_extension": ".py",
   "mimetype": "text/x-python",
   "name": "python",
   "nbconvert_exporter": "python",
   "pygments_lexer": "ipython3",
   "version": "3.8.3"
  }
 },
 "nbformat": 4,
 "nbformat_minor": 4
}
