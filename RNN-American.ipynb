{
 "cells": [
  {
   "cell_type": "code",
   "execution_count": 16,
   "metadata": {},
   "outputs": [],
   "source": [
    "import numpy as np\n",
    "import pandas as pd\n",
    "from keras.models import Sequential\n",
    "from keras.layers import Flatten, Dense, Embedding, LSTM, Bidirectional\n",
    "from keras.preprocessing.sequence import pad_sequences\n",
    "from keras.preprocessing.text import Tokenizer\n",
    "from sklearn.metrics import precision_score, recall_score, f1_score, cohen_kappa_score, classification_report\n",
    "from sklearn.model_selection import train_test_split"
   ]
  },
  {
   "cell_type": "code",
   "execution_count": 17,
   "metadata": {},
   "outputs": [],
   "source": [
    "data = pd.read_csv('data\\preprocessed.csv').dropna()\n",
    "data = data.loc[(data[\"'American'\"]==1)|(data[\" 'American'\"]==1)]"
   ]
  },
  {
   "cell_type": "code",
   "execution_count": 18,
   "metadata": {},
   "outputs": [],
   "source": [
    "X = data[\"Reviews_cleaned\"]\n",
    "y = data[\"Category\"]"
   ]
  },
  {
   "cell_type": "code",
   "execution_count": 19,
   "metadata": {},
   "outputs": [
    {
     "name": "stdout",
     "output_type": "stream",
     "text": [
      "Znaleziono 1309 unikatowych tokenów.\n",
      "Kształt tensora danych: (1826, 245)\n",
      "Kształt tensora etykiet: (1826,)\n"
     ]
    }
   ],
   "source": [
    "maxlen = 10\n",
    "max_words = 10000\n",
    "tokenizer = Tokenizer(num_words=max_words)\n",
    "tokenizer.fit_on_texts(X)\n",
    "sequences = tokenizer.texts_to_sequences(X)\n",
    "word_index = tokenizer.word_index\n",
    "print(f\"Znaleziono {len(word_index)} unikatowych tokenów.\")\n",
    "data_X = pad_sequences(sequences, maxlen=maxlen)\n",
    "print(f\"Kształt tensora danych: {data.shape}\") \n",
    "print(f\"Kształt tensora etykiet: {y.shape}\")"
   ]
  },
  {
   "cell_type": "code",
   "execution_count": 20,
   "metadata": {},
   "outputs": [],
   "source": [
    "X_train, X_test, y_train, y_test = train_test_split(data_X, y, test_size=0.2, random_state=42, stratify=y)"
   ]
  },
  {
   "cell_type": "code",
   "execution_count": 21,
   "metadata": {},
   "outputs": [],
   "source": [
    "X_train = pad_sequences(X_train, maxlen=maxlen)\n",
    "X_test = pad_sequences(X_test, maxlen=maxlen)"
   ]
  },
  {
   "cell_type": "code",
   "execution_count": 22,
   "metadata": {},
   "outputs": [
    {
     "data": {
      "text/plain": [
       "((1460, 10), (366, 10), (1826,))"
      ]
     },
     "execution_count": 22,
     "metadata": {},
     "output_type": "execute_result"
    }
   ],
   "source": [
    "X_train.shape, X_test.shape, X.shape"
   ]
  },
  {
   "cell_type": "code",
   "execution_count": 23,
   "metadata": {},
   "outputs": [],
   "source": [
    "model = Sequential()\n",
    "model.add(Embedding(10000, 32))\n",
    "model.add(Bidirectional(LSTM(32, return_sequences=True)))\n",
    "model.add(LSTM(32))\n",
    "model.add(Dense(1, activation='sigmoid'))"
   ]
  },
  {
   "cell_type": "code",
   "execution_count": 24,
   "metadata": {},
   "outputs": [],
   "source": [
    "model.compile(optimizer='rmsprop', loss='binary_crossentropy', metrics=['accuracy'])"
   ]
  },
  {
   "cell_type": "code",
   "execution_count": 25,
   "metadata": {},
   "outputs": [
    {
     "name": "stdout",
     "output_type": "stream",
     "text": [
      "Epoch 1/25\n",
      "10/10 [==============================] - 41s 268ms/step - loss: 0.6919 - accuracy: 0.5248 - val_loss: 0.6830 - val_accuracy: 0.5822\n",
      "Epoch 2/25\n",
      "10/10 [==============================] - 0s 33ms/step - loss: 0.6788 - accuracy: 0.5608 - val_loss: 0.6537 - val_accuracy: 0.7226\n",
      "Epoch 3/25\n",
      "10/10 [==============================] - 0s 29ms/step - loss: 0.5863 - accuracy: 0.7740 - val_loss: 0.5371 - val_accuracy: 0.7397\n",
      "Epoch 4/25\n",
      "10/10 [==============================] - 0s 30ms/step - loss: 0.4290 - accuracy: 0.8399 - val_loss: 0.5339 - val_accuracy: 0.7329\n",
      "Epoch 5/25\n",
      "10/10 [==============================] - 0s 30ms/step - loss: 0.3176 - accuracy: 0.8673 - val_loss: 0.6090 - val_accuracy: 0.7260\n",
      "Epoch 6/25\n",
      "10/10 [==============================] - 0s 34ms/step - loss: 0.2814 - accuracy: 0.8878 - val_loss: 0.6836 - val_accuracy: 0.6781\n",
      "Epoch 7/25\n",
      "10/10 [==============================] - 0s 32ms/step - loss: 0.2552 - accuracy: 0.9058 - val_loss: 0.5963 - val_accuracy: 0.7397\n",
      "Epoch 8/25\n",
      "10/10 [==============================] - 0s 29ms/step - loss: 0.2135 - accuracy: 0.9195 - val_loss: 0.6798 - val_accuracy: 0.7260\n",
      "Epoch 9/25\n",
      "10/10 [==============================] - 0s 32ms/step - loss: 0.2115 - accuracy: 0.9247 - val_loss: 0.6345 - val_accuracy: 0.7466\n",
      "Epoch 10/25\n",
      "10/10 [==============================] - 0s 38ms/step - loss: 0.1870 - accuracy: 0.9281 - val_loss: 0.7602 - val_accuracy: 0.7329\n",
      "Epoch 11/25\n",
      "10/10 [==============================] - 0s 35ms/step - loss: 0.1886 - accuracy: 0.9264 - val_loss: 0.7244 - val_accuracy: 0.7363\n",
      "Epoch 12/25\n",
      "10/10 [==============================] - 0s 31ms/step - loss: 0.1744 - accuracy: 0.9307 - val_loss: 0.8805 - val_accuracy: 0.7123\n",
      "Epoch 13/25\n",
      "10/10 [==============================] - 0s 37ms/step - loss: 0.1750 - accuracy: 0.9307 - val_loss: 0.7401 - val_accuracy: 0.7226\n",
      "Epoch 14/25\n",
      "10/10 [==============================] - 0s 31ms/step - loss: 0.1672 - accuracy: 0.9332 - val_loss: 0.7952 - val_accuracy: 0.7295\n",
      "Epoch 15/25\n",
      "10/10 [==============================] - 0s 32ms/step - loss: 0.1588 - accuracy: 0.9401 - val_loss: 0.8171 - val_accuracy: 0.7123\n",
      "Epoch 16/25\n",
      "10/10 [==============================] - 0s 33ms/step - loss: 0.1509 - accuracy: 0.9401 - val_loss: 0.8850 - val_accuracy: 0.7123\n",
      "Epoch 17/25\n",
      "10/10 [==============================] - 0s 31ms/step - loss: 0.1629 - accuracy: 0.9307 - val_loss: 0.8589 - val_accuracy: 0.7123\n",
      "Epoch 18/25\n",
      "10/10 [==============================] - 0s 29ms/step - loss: 0.1434 - accuracy: 0.9435 - val_loss: 0.9429 - val_accuracy: 0.7021\n",
      "Epoch 19/25\n",
      "10/10 [==============================] - 0s 28ms/step - loss: 0.1465 - accuracy: 0.9435 - val_loss: 1.0103 - val_accuracy: 0.7089\n",
      "Epoch 20/25\n",
      "10/10 [==============================] - 0s 34ms/step - loss: 0.1557 - accuracy: 0.9358 - val_loss: 0.9663 - val_accuracy: 0.7089\n",
      "Epoch 21/25\n",
      "10/10 [==============================] - 0s 32ms/step - loss: 0.1388 - accuracy: 0.9435 - val_loss: 0.9468 - val_accuracy: 0.7055\n",
      "Epoch 22/25\n",
      "10/10 [==============================] - 0s 32ms/step - loss: 0.1387 - accuracy: 0.9435 - val_loss: 1.0134 - val_accuracy: 0.7021\n",
      "Epoch 23/25\n",
      "10/10 [==============================] - 0s 32ms/step - loss: 0.1414 - accuracy: 0.9375 - val_loss: 1.0282 - val_accuracy: 0.7021\n",
      "Epoch 24/25\n",
      "10/10 [==============================] - 0s 33ms/step - loss: 0.1331 - accuracy: 0.9392 - val_loss: 1.1571 - val_accuracy: 0.7021\n",
      "Epoch 25/25\n",
      "10/10 [==============================] - 0s 36ms/step - loss: 0.1361 - accuracy: 0.9418 - val_loss: 1.0021 - val_accuracy: 0.6952\n"
     ]
    }
   ],
   "source": [
    "history = model.fit(X_train, y_train,\n",
    "                    epochs=25,\n",
    "                    batch_size=128,\n",
    "                    validation_split=0.2)"
   ]
  },
  {
   "cell_type": "code",
   "execution_count": 26,
   "metadata": {},
   "outputs": [],
   "source": [
    "import matplotlib.pyplot as plt\n",
    "def plot_history(history, key=\"loss\"):\n",
    "    metric = history.history[key]\n",
    "    val_metric = history.history[f\"val_{key}\"]\n",
    "    epochs = range(len(metric))\n",
    "    plt.plot(epochs, metric, \"bo\", label=f\"{key} - train\")\n",
    "    plt.plot(epochs, val_metric, \"b\", label=f\"{key} - val\")\n",
    "    plt.title(f\"training - {key}\")\n",
    "    plt.legend()\n",
    "    plt.show()"
   ]
  },
  {
   "cell_type": "code",
   "execution_count": 27,
   "metadata": {},
   "outputs": [
    {
     "data": {
      "image/png": "[encoded data removed]",
      "text/plain": [
       "<Figure size 432x288 with 1 Axes>"
      ]
     },
     "metadata": {
      "needs_background": "light"
     },
     "output_type": "display_data"
    }
   ],
   "source": [
    "plot_history(history)"
   ]
  },
  {
   "cell_type": "code",
   "execution_count": 28,
   "metadata": {},
   "outputs": [
    {
     "name": "stdout",
     "output_type": "stream",
     "text": [
      "              precision    recall  f1-score   support\n",
      "\n",
      "         0.0       0.65      0.62      0.64       170\n",
      "         1.0       0.68      0.71      0.70       196\n",
      "\n",
      "    accuracy                           0.67       366\n",
      "   macro avg       0.67      0.67      0.67       366\n",
      "weighted avg       0.67      0.67      0.67       366\n",
      "\n"
     ]
    }
   ],
   "source": [
    "y_pred = np.round(model.predict(X_test))\n",
    "print(classification_report(y_test, y_pred))"
   ]
  },
  {
   "cell_type": "code",
   "execution_count": 29,
   "metadata": {},
   "outputs": [
    {
     "data": {
      "text/plain": [
       "0.3336242438833549"
      ]
     },
     "execution_count": 29,
     "metadata": {},
     "output_type": "execute_result"
    }
   ],
   "source": [
    "cohen_kappa_score(y_test, y_pred)"
   ]
  },
  {
   "cell_type": "code",
   "execution_count": 30,
   "metadata": {},
   "outputs": [
    {
     "data": {
      "text/plain": [
       "0.6967418546365916"
      ]
     },
     "execution_count": 30,
     "metadata": {},
     "output_type": "execute_result"
    }
   ],
   "source": [
    "f1_score(y_test, y_pred)"
   ]
  }
 ],
 "metadata": {
  "kernelspec": {
   "display_name": "Python 3 (ipykernel)",
   "language": "python",
   "name": "python3"
  },
  "language_info": {
   "codemirror_mode": {
    "name": "ipython",
    "version": 3
   },
   "file_extension": ".py",
   "mimetype": "text/x-python",
   "name": "python",
   "nbconvert_exporter": "python",
   "pygments_lexer": "ipython3",
   "version": "3.8.3"
  }
 },
 "nbformat": 4,
 "nbformat_minor": 4
}
