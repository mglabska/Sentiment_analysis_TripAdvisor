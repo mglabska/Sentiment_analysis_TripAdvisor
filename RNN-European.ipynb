{
 "cells": [
  {
   "cell_type": "code",
   "execution_count": 16,
   "metadata": {},
   "outputs": [],
   "source": [
    "import numpy as np\n",
    "import pandas as pd\n",
    "from keras.models import Sequential\n",
    "from keras.layers import Flatten, Dense, Embedding, LSTM, Bidirectional\n",
    "from keras.preprocessing.sequence import pad_sequences\n",
    "from keras.preprocessing.text import Tokenizer\n",
    "from sklearn.metrics import precision_score, recall_score, f1_score, cohen_kappa_score, classification_report\n",
    "from sklearn.model_selection import train_test_split"
   ]
  },
  {
   "cell_type": "code",
   "execution_count": 17,
   "metadata": {},
   "outputs": [],
   "source": [
    "data = pd.read_csv('data\\preprocessed.csv').dropna()\n",
    "data = data.loc[(data[\"'European'\"]==1)|(data[\" 'European'\"]==1)]"
   ]
  },
  {
   "cell_type": "code",
   "execution_count": 18,
   "metadata": {},
   "outputs": [],
   "source": [
    "X = data[\"Reviews_cleaned\"]\n",
    "y = data[\"Category\"]"
   ]
  },
  {
   "cell_type": "code",
   "execution_count": 19,
   "metadata": {},
   "outputs": [
    {
     "name": "stdout",
     "output_type": "stream",
     "text": [
      "Znaleziono 4798 unikatowych tokenów.\n",
      "Kształt tensora danych: (13483, 245)\n",
      "Kształt tensora etykiet: (13483,)\n"
     ]
    }
   ],
   "source": [
    "maxlen = 10\n",
    "max_words = 10000\n",
    "tokenizer = Tokenizer(num_words=max_words)\n",
    "tokenizer.fit_on_texts(X)\n",
    "sequences = tokenizer.texts_to_sequences(X)\n",
    "word_index = tokenizer.word_index\n",
    "print(f\"Znaleziono {len(word_index)} unikatowych tokenów.\")\n",
    "data_X = pad_sequences(sequences, maxlen=maxlen)\n",
    "print(f\"Kształt tensora danych: {data.shape}\") \n",
    "print(f\"Kształt tensora etykiet: {y.shape}\")"
   ]
  },
  {
   "cell_type": "code",
   "execution_count": 20,
   "metadata": {},
   "outputs": [],
   "source": [
    "X_train, X_test, y_train, y_test = train_test_split(data_X, y, test_size=0.2, random_state=42, stratify=y)"
   ]
  },
  {
   "cell_type": "code",
   "execution_count": 21,
   "metadata": {},
   "outputs": [],
   "source": [
    "X_train = pad_sequences(X_train, maxlen=maxlen)\n",
    "X_test = pad_sequences(X_test, maxlen=maxlen)"
   ]
  },
  {
   "cell_type": "code",
   "execution_count": 22,
   "metadata": {},
   "outputs": [
    {
     "data": {
      "text/plain": [
       "((10786, 10), (2697, 10), (13483,))"
      ]
     },
     "execution_count": 22,
     "metadata": {},
     "output_type": "execute_result"
    }
   ],
   "source": [
    "X_train.shape, X_test.shape, X.shape"
   ]
  },
  {
   "cell_type": "code",
   "execution_count": 23,
   "metadata": {},
   "outputs": [],
   "source": [
    "model = Sequential()\n",
    "model.add(Embedding(10000, 32))\n",
    "model.add(Bidirectional(LSTM(32, return_sequences=True)))\n",
    "model.add(LSTM(32))\n",
    "model.add(Dense(1, activation='sigmoid'))"
   ]
  },
  {
   "cell_type": "code",
   "execution_count": 24,
   "metadata": {},
   "outputs": [],
   "source": [
    "model.compile(optimizer='rmsprop', loss='binary_crossentropy', metrics=['accuracy'])"
   ]
  },
  {
   "cell_type": "code",
   "execution_count": 25,
   "metadata": {},
   "outputs": [
    {
     "name": "stdout",
     "output_type": "stream",
     "text": [
      "Epoch 1/25\n",
      "68/68 [==============================] - 14s 56ms/step - loss: 0.5330 - accuracy: 0.7575 - val_loss: 0.4751 - val_accuracy: 0.7984\n",
      "Epoch 2/25\n",
      "68/68 [==============================] - 2s 36ms/step - loss: 0.4056 - accuracy: 0.8311 - val_loss: 0.4120 - val_accuracy: 0.8327\n",
      "Epoch 3/25\n",
      "68/68 [==============================] - 2s 33ms/step - loss: 0.3606 - accuracy: 0.8547 - val_loss: 0.3999 - val_accuracy: 0.8364\n",
      "Epoch 4/25\n",
      "68/68 [==============================] - 3s 39ms/step - loss: 0.3352 - accuracy: 0.8701 - val_loss: 0.4114 - val_accuracy: 0.8281\n",
      "Epoch 5/25\n",
      "68/68 [==============================] - 3s 38ms/step - loss: 0.3195 - accuracy: 0.8776 - val_loss: 0.4265 - val_accuracy: 0.8230\n",
      "Epoch 6/25\n",
      "68/68 [==============================] - 3s 39ms/step - loss: 0.3054 - accuracy: 0.8854 - val_loss: 0.4451 - val_accuracy: 0.8151\n",
      "Epoch 7/25\n",
      "68/68 [==============================] - 2s 36ms/step - loss: 0.2944 - accuracy: 0.8920 - val_loss: 0.4481 - val_accuracy: 0.8202\n",
      "Epoch 8/25\n",
      "68/68 [==============================] - 2s 33ms/step - loss: 0.2893 - accuracy: 0.8920 - val_loss: 0.4525 - val_accuracy: 0.8262\n",
      "Epoch 9/25\n",
      "68/68 [==============================] - 2s 32ms/step - loss: 0.2831 - accuracy: 0.8943 - val_loss: 0.4616 - val_accuracy: 0.8179\n",
      "Epoch 10/25\n",
      "68/68 [==============================] - 2s 33ms/step - loss: 0.2771 - accuracy: 0.8966 - val_loss: 0.4745 - val_accuracy: 0.8244\n",
      "Epoch 11/25\n",
      "68/68 [==============================] - 2s 31ms/step - loss: 0.2725 - accuracy: 0.8956 - val_loss: 0.4741 - val_accuracy: 0.8146\n",
      "Epoch 12/25\n",
      "68/68 [==============================] - 2s 31ms/step - loss: 0.2675 - accuracy: 0.8995 - val_loss: 0.4776 - val_accuracy: 0.8221\n",
      "Epoch 13/25\n",
      "68/68 [==============================] - 2s 31ms/step - loss: 0.2641 - accuracy: 0.9024 - val_loss: 0.4984 - val_accuracy: 0.8188\n",
      "Epoch 14/25\n",
      "68/68 [==============================] - 2s 31ms/step - loss: 0.2614 - accuracy: 0.9040 - val_loss: 0.5071 - val_accuracy: 0.8234\n",
      "Epoch 15/25\n",
      "68/68 [==============================] - 2s 31ms/step - loss: 0.2591 - accuracy: 0.9044 - val_loss: 0.4977 - val_accuracy: 0.8040\n",
      "Epoch 16/25\n",
      "68/68 [==============================] - 2s 34ms/step - loss: 0.2554 - accuracy: 0.9059 - val_loss: 0.4855 - val_accuracy: 0.8156\n",
      "Epoch 17/25\n",
      "68/68 [==============================] - 2s 35ms/step - loss: 0.2535 - accuracy: 0.9077 - val_loss: 0.5169 - val_accuracy: 0.8100\n",
      "Epoch 18/25\n",
      "68/68 [==============================] - 2s 34ms/step - loss: 0.2508 - accuracy: 0.9064 - val_loss: 0.5368 - val_accuracy: 0.8179\n",
      "Epoch 19/25\n",
      "68/68 [==============================] - 2s 32ms/step - loss: 0.2504 - accuracy: 0.9061 - val_loss: 0.5276 - val_accuracy: 0.8100\n",
      "Epoch 20/25\n",
      "68/68 [==============================] - 3s 37ms/step - loss: 0.2465 - accuracy: 0.9081 - val_loss: 0.5121 - val_accuracy: 0.8216\n",
      "Epoch 21/25\n",
      "68/68 [==============================] - 2s 35ms/step - loss: 0.2440 - accuracy: 0.9089 - val_loss: 0.4967 - val_accuracy: 0.8221\n",
      "Epoch 22/25\n",
      "68/68 [==============================] - 2s 32ms/step - loss: 0.2423 - accuracy: 0.9084 - val_loss: 0.4954 - val_accuracy: 0.8197\n",
      "Epoch 23/25\n",
      "68/68 [==============================] - 2s 33ms/step - loss: 0.2396 - accuracy: 0.9097 - val_loss: 0.5135 - val_accuracy: 0.8197\n",
      "Epoch 24/25\n",
      "68/68 [==============================] - 2s 36ms/step - loss: 0.2365 - accuracy: 0.9092 - val_loss: 0.5131 - val_accuracy: 0.8207\n",
      "Epoch 25/25\n",
      "68/68 [==============================] - 2s 32ms/step - loss: 0.2340 - accuracy: 0.9123 - val_loss: 0.5019 - val_accuracy: 0.8262\n"
     ]
    }
   ],
   "source": [
    "history = model.fit(X_train, y_train,\n",
    "                    epochs=25,\n",
    "                    batch_size=128,\n",
    "                    validation_split=0.2)"
   ]
  },
  {
   "cell_type": "code",
   "execution_count": 26,
   "metadata": {},
   "outputs": [],
   "source": [
    "import matplotlib.pyplot as plt\n",
    "def plot_history(history, key=\"loss\"):\n",
    "    metric = history.history[key]\n",
    "    val_metric = history.history[f\"val_{key}\"]\n",
    "    epochs = range(len(metric))\n",
    "    plt.plot(epochs, metric, \"bo\", label=f\"{key} - train\")\n",
    "    plt.plot(epochs, val_metric, \"b\", label=f\"{key} - val\")\n",
    "    plt.title(f\"training - {key}\")\n",
    "    plt.legend()\n",
    "    plt.show()"
   ]
  },
  {
   "cell_type": "code",
   "execution_count": 27,
   "metadata": {},
   "outputs": [
    {
     "data": {
      "image/png": "[encoded data removed]",
      "text/plain": [
       "<Figure size 432x288 with 1 Axes>"
      ]
     },
     "metadata": {
      "needs_background": "light"
     },
     "output_type": "display_data"
    }
   ],
   "source": [
    "plot_history(history)"
   ]
  },
  {
   "cell_type": "code",
   "execution_count": 28,
   "metadata": {},
   "outputs": [
    {
     "name": "stdout",
     "output_type": "stream",
     "text": [
      "              precision    recall  f1-score   support\n",
      "\n",
      "         0.0       0.66      0.47      0.55       672\n",
      "         1.0       0.84      0.92      0.88      2025\n",
      "\n",
      "    accuracy                           0.81      2697\n",
      "   macro avg       0.75      0.69      0.71      2697\n",
      "weighted avg       0.79      0.81      0.80      2697\n",
      "\n"
     ]
    }
   ],
   "source": [
    "y_pred = np.round(model.predict(X_test))\n",
    "print(classification_report(y_test, y_pred))"
   ]
  },
  {
   "cell_type": "code",
   "execution_count": 29,
   "metadata": {},
   "outputs": [
    {
     "data": {
      "text/plain": [
       "0.43032483231945096"
      ]
     },
     "execution_count": 29,
     "metadata": {},
     "output_type": "execute_result"
    }
   ],
   "source": [
    "cohen_kappa_score(y_test, y_pred)"
   ]
  },
  {
   "cell_type": "code",
   "execution_count": 30,
   "metadata": {},
   "outputs": [
    {
     "data": {
      "text/plain": [
       "0.8774163130598774"
      ]
     },
     "execution_count": 30,
     "metadata": {},
     "output_type": "execute_result"
    }
   ],
   "source": [
    "f1_score(y_test, y_pred)"
   ]
  }
 ],
 "metadata": {
  "kernelspec": {
   "display_name": "Python 3 (ipykernel)",
   "language": "python",
   "name": "python3"
  },
  "language_info": {
   "codemirror_mode": {
    "name": "ipython",
    "version": 3
   },
   "file_extension": ".py",
   "mimetype": "text/x-python",
   "name": "python",
   "nbconvert_exporter": "python",
   "pygments_lexer": "ipython3",
   "version": "3.8.3"
  }
 },
 "nbformat": 4,
 "nbformat_minor": 4
}
