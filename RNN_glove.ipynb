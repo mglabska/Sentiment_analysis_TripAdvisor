{
 "cells": [
  {
   "cell_type": "code",
   "execution_count": 33,
   "metadata": {},
   "outputs": [],
   "source": [
    "import gensim.downloader\n",
    "import matplotlib.pyplot as plt\n",
    "import numpy as np\n",
    "import pandas as pd\n",
    "import spacy\n",
    "from gensim.models import KeyedVectors\n",
    "from keras.layers import Dense, Flatten, LSTM, GRU, Bidirectional, Embedding\n",
    "from keras.models import Sequential\n",
    "from keras.preprocessing import sequence, text\n",
    "from sklearn.metrics import precision_score, recall_score, f1_score, cohen_kappa_score, classification_report\n",
    "from sklearn.model_selection import train_test_split\n",
    "from spacy.tokenizer import Tokenizer"
   ]
  },
  {
   "cell_type": "code",
   "execution_count": 34,
   "metadata": {},
   "outputs": [],
   "source": [
    "data = pd.read_csv('data\\preprocessed.csv').dropna()"
   ]
  },
  {
   "cell_type": "code",
   "execution_count": 35,
   "metadata": {},
   "outputs": [],
   "source": [
    "nlp = spacy.load(\"en_core_web_sm\")\n",
    "#glove = gensim.downloader.load('glove-twitter-200')\n",
    "#glove.save(\"glove.model\")\n",
    "glove = KeyedVectors.load(\"glove.model\")"
   ]
  },
  {
   "cell_type": "code",
   "execution_count": 36,
   "metadata": {},
   "outputs": [],
   "source": [
    "def get_vector(sent):\n",
    "    for word in sent.lower().split(' '):\n",
    "        if word.isalpha() == True:\n",
    "            try:\n",
    "                return glove[word].tolist()\n",
    "            except KeyError:\n",
    "                return glove['unk'].tolist()\n",
    "        else:\n",
    "            return glove['unk'].tolist()"
   ]
  },
  {
   "cell_type": "code",
   "execution_count": 37,
   "metadata": {},
   "outputs": [],
   "source": [
    "def pad_trunc(data, maxlen):\n",
    "    new_data = []\n",
    "    zero_vector = []\n",
    "    for _ in range(len(data[0][0])):\n",
    "        zero_vector.append(0.0)\n",
    "    for sample in data:\n",
    "        if len(sample) > maxlen:\n",
    "            temp = sample[:maxlen]\n",
    "        elif len(sample) < maxlen:\n",
    "            temp = sample\n",
    "            additional_elems = maxlen - len(sample)\n",
    "            for _ in range(additional_elems):\n",
    "                temp.append(zero_vector)\n",
    "        else:\n",
    "            temp = sample\n",
    "        new_data.append(temp)\n",
    "        \n",
    "    return new_data"
   ]
  },
  {
   "cell_type": "code",
   "execution_count": 38,
   "metadata": {},
   "outputs": [],
   "source": [
    "data['vectors'] =  data['Reviews_cleaned'].apply(lambda x: [get_vector(x)])"
   ]
  },
  {
   "cell_type": "code",
   "execution_count": 39,
   "metadata": {},
   "outputs": [],
   "source": [
    "X = data['vectors']\n",
    "y = data[\"Category\"]\n",
    "X = np.array(pad_trunc(X, 3))"
   ]
  },
  {
   "cell_type": "code",
   "execution_count": 40,
   "metadata": {},
   "outputs": [],
   "source": [
    "X_train, X_test, y_train, y_test = train_test_split(X, y, test_size=0.2, random_state=1)"
   ]
  },
  {
   "cell_type": "code",
   "execution_count": 41,
   "metadata": {},
   "outputs": [
    {
     "data": {
      "text/plain": [
       "((32560, 3, 200), (8140, 3, 200), (40700, 3, 200))"
      ]
     },
     "execution_count": 41,
     "metadata": {},
     "output_type": "execute_result"
    }
   ],
   "source": [
    "X_train.shape, X_test.shape, X.shape"
   ]
  },
  {
   "cell_type": "code",
   "execution_count": 42,
   "metadata": {},
   "outputs": [],
   "source": [
    "model = Sequential()\n",
    "model.add(Bidirectional(LSTM(32, return_sequences=True, dropout=0.2, recurrent_dropout=0.2)))\n",
    "model.add(LSTM(32, dropout=0.2, recurrent_dropout=0.2))\n",
    "model.add(Dense(16, activation='relu'))\n",
    "model.add(Dense(8, activation='relu'))\n",
    "model.add(Dense(1, activation='sigmoid'))\n",
    "model.compile(optimizer='adam', loss='binary_crossentropy', metrics=['accuracy'])"
   ]
  },
  {
   "cell_type": "code",
   "execution_count": 43,
   "metadata": {},
   "outputs": [
    {
     "name": "stdout",
     "output_type": "stream",
     "text": [
      "Epoch 1/10\n",
      "1628/1628 [==============================] - 26s 9ms/step - loss: 0.4513 - accuracy: 0.8188 - val_loss: 0.4302 - val_accuracy: 0.8308\n",
      "Epoch 2/10\n",
      "1628/1628 [==============================] - 15s 9ms/step - loss: 0.4436 - accuracy: 0.8201 - val_loss: 0.4321 - val_accuracy: 0.8308\n",
      "Epoch 3/10\n",
      "1628/1628 [==============================] - 17s 10ms/step - loss: 0.4438 - accuracy: 0.8201 - val_loss: 0.4301 - val_accuracy: 0.8308\n",
      "Epoch 4/10\n",
      "1628/1628 [==============================] - 17s 10ms/step - loss: 0.4433 - accuracy: 0.8201 - val_loss: 0.4297 - val_accuracy: 0.8308\n",
      "Epoch 5/10\n",
      "1628/1628 [==============================] - 37s 23ms/step - loss: 0.4431 - accuracy: 0.8201 - val_loss: 0.4304 - val_accuracy: 0.8308 0.4433 - accura\n",
      "Epoch 6/10\n",
      "1628/1628 [==============================] - 29s 18ms/step - loss: 0.4434 - accuracy: 0.8201 - val_loss: 0.4326 - val_accuracy: 0.8308\n",
      "Epoch 7/10\n",
      "1628/1628 [==============================] - 34s 21ms/step - loss: 0.4434 - accuracy: 0.8201 - val_loss: 0.4309 - val_accuracy: 0.8308\n",
      "Epoch 8/10\n",
      "1628/1628 [==============================] - 35s 21ms/step - loss: 0.4432 - accuracy: 0.8201 - val_loss: 0.4300 - val_accuracy: 0.8308\n",
      "Epoch 9/10\n",
      "1628/1628 [==============================] - 36s 22ms/step - loss: 0.4433 - accuracy: 0.8201 - val_loss: 0.4305 - val_accuracy: 0.8308\n",
      "Epoch 10/10\n",
      "1628/1628 [==============================] - 34s 21ms/step - loss: 0.4434 - accuracy: 0.8201 - val_loss: 0.4300 - val_accuracy: 0.8308\n"
     ]
    }
   ],
   "source": [
    "history = model.fit(X_train, y_train,\n",
    "                    epochs=10,\n",
    "                    batch_size=16,\n",
    "                    validation_split=0.2)"
   ]
  },
  {
   "cell_type": "code",
   "execution_count": 44,
   "metadata": {},
   "outputs": [
    {
     "data": {
      "text/plain": [
       "0.5154885092632424"
      ]
     },
     "execution_count": 44,
     "metadata": {},
     "output_type": "execute_result"
    }
   ],
   "source": [
    "y_pred = np.round(model.predict(X_test))\n",
    "cohen_kappa_score(y_test, y_pred)"
   ]
  },
  {
   "cell_type": "code",
   "execution_count": 45,
   "metadata": {},
   "outputs": [],
   "source": [
    "import matplotlib.pyplot as plt\n",
    "def plot_history(history, key=\"loss\"):\n",
    "    metric = history.history[key]\n",
    "    val_metric = history.history[f\"val_{key}\"]\n",
    "    epochs = range(len(metric))\n",
    "    plt.plot(epochs, metric, \"bo\", label=f\"{key} - train\")\n",
    "    plt.plot(epochs, val_metric, \"b\", label=f\"{key} - val\")\n",
    "    plt.title(f\"training - {key}\")\n",
    "    plt.legend()\n",
    "    plt.show()"
   ]
  },
  {
   "cell_type": "code",
   "execution_count": 46,
   "metadata": {},
   "outputs": [
    {
     "data": {
      "text/plain": [
       "0.8901271385967666"
      ]
     },
     "execution_count": 46,
     "metadata": {},
     "output_type": "execute_result"
    }
   ],
   "source": [
    "f1_score(y_test, y_pred)"
   ]
  },
  {
   "cell_type": "code",
   "execution_count": 47,
   "metadata": {},
   "outputs": [
    {
     "data": {
      "image/png": "[encoded data removed]",
      "text/plain": [
       "<Figure size 432x288 with 1 Axes>"
      ]
     },
     "metadata": {
      "needs_background": "light"
     },
     "output_type": "display_data"
    }
   ],
   "source": [
    "plot_history(history)"
   ]
  },
  {
   "cell_type": "code",
   "execution_count": 48,
   "metadata": {},
   "outputs": [
    {
     "name": "stdout",
     "output_type": "stream",
     "text": [
      "Epoch 1/10\n",
      "1628/1628 [==============================] - 30s 9ms/step - loss: 0.4480 - accuracy: 0.8199 - val_loss: 0.4315 - val_accuracy: 0.8308\n",
      "Epoch 2/10\n",
      "1628/1628 [==============================] - 15s 9ms/step - loss: 0.4437 - accuracy: 0.8201 - val_loss: 0.4332 - val_accuracy: 0.8308\n",
      "Epoch 3/10\n",
      "1628/1628 [==============================] - 16s 10ms/step - loss: 0.4434 - accuracy: 0.8201 - val_loss: 0.4316 - val_accuracy: 0.8308\n",
      "Epoch 4/10\n",
      "1628/1628 [==============================] - 17s 11ms/step - loss: 0.4433 - accuracy: 0.8201 - val_loss: 0.4295 - val_accuracy: 0.8308\n",
      "Epoch 5/10\n",
      "1628/1628 [==============================] - 34s 21ms/step - loss: 0.4433 - accuracy: 0.8201 - val_loss: 0.4313 - val_accuracy: 0.8308\n",
      "Epoch 6/10\n",
      "1628/1628 [==============================] - 26s 16ms/step - loss: 0.4434 - accuracy: 0.8201 - val_loss: 0.4305 - val_accuracy: 0.8308\n",
      "Epoch 7/10\n",
      "1628/1628 [==============================] - 33s 20ms/step - loss: 0.4432 - accuracy: 0.8201 - val_loss: 0.4326 - val_accuracy: 0.8308\n",
      "Epoch 8/10\n",
      "1628/1628 [==============================] - 33s 20ms/step - loss: 0.4430 - accuracy: 0.8201 - val_loss: 0.4331 - val_accuracy: 0.8308\n",
      "Epoch 9/10\n",
      "1628/1628 [==============================] - 22s 13ms/step - loss: 0.4433 - accuracy: 0.8201 - val_loss: 0.4309 - val_accuracy: 0.8308\n",
      "Epoch 10/10\n",
      "1628/1628 [==============================] - 15s 9ms/step - loss: 0.4433 - accuracy: 0.8201 - val_loss: 0.4306 - val_accuracy: 0.8308\n"
     ]
    }
   ],
   "source": [
    "model = Sequential()\n",
    "model.add(Bidirectional(GRU(32, return_sequences=True, dropout=0.2, recurrent_dropout=0.2)))\n",
    "model.add(GRU(32, dropout=0.2, recurrent_dropout=0.2))\n",
    "model.add(Dense(16, activation='relu'))\n",
    "model.add(Dense(8, activation='relu'))\n",
    "model.add(Dense(1, activation='sigmoid'))\n",
    "model.compile(optimizer='adam', loss='binary_crossentropy', metrics=['accuracy'])\n",
    "history = model.fit(X_train, y_train,\n",
    "                    epochs=10,\n",
    "                    batch_size=16,\n",
    "                    validation_split=0.2)"
   ]
  },
  {
   "cell_type": "code",
   "execution_count": 49,
   "metadata": {},
   "outputs": [
    {
     "data": {
      "text/plain": [
       "0.5154885092632424"
      ]
     },
     "execution_count": 49,
     "metadata": {},
     "output_type": "execute_result"
    }
   ],
   "source": [
    "y_pred = np.round(model.predict(X_test))\n",
    "cohen_kappa_score(y_test, y_pred)"
   ]
  },
  {
   "cell_type": "code",
   "execution_count": 50,
   "metadata": {},
   "outputs": [
    {
     "data": {
      "text/plain": [
       "0.8901271385967666"
      ]
     },
     "execution_count": 50,
     "metadata": {},
     "output_type": "execute_result"
    }
   ],
   "source": [
    "f1_score(y_test, y_pred)"
   ]
  }
 ],
 "metadata": {
  "kernelspec": {
   "display_name": "Python 3 (ipykernel)",
   "language": "python",
   "name": "python3"
  },
  "language_info": {
   "codemirror_mode": {
    "name": "ipython",
    "version": 3
   },
   "file_extension": ".py",
   "mimetype": "text/x-python",
   "name": "python",
   "nbconvert_exporter": "python",
   "pygments_lexer": "ipython3",
   "version": "3.8.3"
  }
 },
 "nbformat": 4,
 "nbformat_minor": 4
}
