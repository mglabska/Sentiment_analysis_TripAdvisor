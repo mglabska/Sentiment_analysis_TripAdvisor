{
 "cells": [
  {
   "cell_type": "code",
   "execution_count": 1,
   "metadata": {},
   "outputs": [],
   "source": [
    "import gensim.downloader\n",
    "import matplotlib.pyplot as plt\n",
    "import numpy as np\n",
    "import pandas as pd\n",
    "import spacy\n",
    "from gensim.models import KeyedVectors\n",
    "from keras.layers import Dense, Flatten, LSTM, GRU, Bidirectional\n",
    "from keras.models import Sequential\n",
    "from keras.preprocessing import sequence, text\n",
    "from sklearn.metrics import precision_score, recall_score, f1_score, cohen_kappa_score, classification_report\n",
    "from sklearn.model_selection import train_test_split\n",
    "from spacy.tokenizer import Tokenizer"
   ]
  },
  {
   "cell_type": "code",
   "execution_count": 2,
   "metadata": {},
   "outputs": [],
   "source": [
    "data = pd.read_csv('data\\preprocessed.csv').dropna()"
   ]
  },
  {
   "cell_type": "code",
   "execution_count": 3,
   "metadata": {},
   "outputs": [],
   "source": [
    "nlp = spacy.load(\"en_core_web_sm\")\n",
    "#glove = gensim.downloader.load('glove-twitter-200')\n",
    "#glove.save(\"glove.model\")\n",
    "glove = KeyedVectors.load(\"glove.model\")"
   ]
  },
  {
   "cell_type": "code",
   "execution_count": 4,
   "metadata": {},
   "outputs": [],
   "source": [
    "def get_vector(sent):\n",
    "    for word in sent.lower().split(' '):\n",
    "        if word.isalpha() == True:\n",
    "            try:\n",
    "                return glove[word].tolist()\n",
    "            except KeyError:\n",
    "                return glove['unk'].tolist()\n",
    "        else:\n",
    "            return glove['unk'].tolist()"
   ]
  },
  {
   "cell_type": "code",
   "execution_count": 5,
   "metadata": {},
   "outputs": [],
   "source": [
    "def pad_trunc(data, maxlen):\n",
    "    new_data = []\n",
    "    zero_vector = []\n",
    "    for _ in range(len(data[0][0])):\n",
    "        zero_vector.append(0.0)\n",
    "    for sample in data:\n",
    "        if len(sample) > maxlen:\n",
    "            temp = sample[:maxlen]\n",
    "        elif len(sample) < maxlen:\n",
    "            temp = sample\n",
    "            additional_elems = maxlen - len(sample)\n",
    "            for _ in range(additional_elems):\n",
    "                temp.append(zero_vector)\n",
    "        else:\n",
    "            temp = sample\n",
    "        new_data.append(temp)\n",
    "        \n",
    "    return new_data"
   ]
  },
  {
   "cell_type": "code",
   "execution_count": 6,
   "metadata": {},
   "outputs": [],
   "source": [
    "data['vectors'] =  data['Reviews_cleaned'].apply(lambda x: [get_vector(x)])"
   ]
  },
  {
   "cell_type": "code",
   "execution_count": 7,
   "metadata": {},
   "outputs": [],
   "source": [
    "X = data['vectors']\n",
    "y = data[\"Category\"]\n",
    "X = np.array(pad_trunc(X, 10))"
   ]
  },
  {
   "cell_type": "code",
   "execution_count": 8,
   "metadata": {},
   "outputs": [],
   "source": [
    "X_train, X_test, y_train, y_test = train_test_split(X, y, test_size=0.2, random_state=1)"
   ]
  },
  {
   "cell_type": "code",
   "execution_count": 9,
   "metadata": {},
   "outputs": [
    {
     "data": {
      "text/plain": [
       "((32419, 10, 200), (8105, 10, 200), (40524, 10, 200))"
      ]
     },
     "execution_count": 9,
     "metadata": {},
     "output_type": "execute_result"
    }
   ],
   "source": [
    "X_train.shape, X_test.shape, X.shape"
   ]
  },
  {
   "cell_type": "code",
   "execution_count": 10,
   "metadata": {},
   "outputs": [],
   "source": [
    "model = Sequential()\n",
    "model.add(Bidirectional(LSTM(32, return_sequences=True, input_shape=(10,200))))\n",
    "model.add(LSTM(32))\n",
    "model.add(Dense(1, activation='sigmoid'))\n",
    "model.compile(optimizer='rmsprop', loss='binary_crossentropy', metrics=['accuracy'])"
   ]
  },
  {
   "cell_type": "code",
   "execution_count": 11,
   "metadata": {},
   "outputs": [
    {
     "name": "stdout",
     "output_type": "stream",
     "text": [
      "Epoch 1/12\n",
      "203/203 [==============================] - 15s 41ms/step - loss: 0.5178 - accuracy: 0.7576 - val_loss: 0.4932 - val_accuracy: 0.7745\n",
      "Epoch 2/12\n",
      "203/203 [==============================] - 7s 34ms/step - loss: 0.4941 - accuracy: 0.7717 - val_loss: 0.4853 - val_accuracy: 0.7791\n",
      "Epoch 3/12\n",
      "203/203 [==============================] - 7s 34ms/step - loss: 0.4880 - accuracy: 0.7741 - val_loss: 0.4838 - val_accuracy: 0.7785\n",
      "Epoch 4/12\n",
      "203/203 [==============================] - 7s 32ms/step - loss: 0.4835 - accuracy: 0.7782 - val_loss: 0.4824 - val_accuracy: 0.7790\n",
      "Epoch 5/12\n",
      "203/203 [==============================] - 8s 37ms/step - loss: 0.4802 - accuracy: 0.7802 - val_loss: 0.4824 - val_accuracy: 0.7815\n",
      "Epoch 6/12\n",
      "203/203 [==============================] - 6s 31ms/step - loss: 0.4759 - accuracy: 0.7829 - val_loss: 0.4847 - val_accuracy: 0.7816\n",
      "Epoch 7/12\n",
      "203/203 [==============================] - 7s 35ms/step - loss: 0.4720 - accuracy: 0.7852 - val_loss: 0.4823 - val_accuracy: 0.7824\n",
      "Epoch 8/12\n",
      "203/203 [==============================] - 7s 35ms/step - loss: 0.4696 - accuracy: 0.7874 - val_loss: 0.4846 - val_accuracy: 0.7796\n",
      "Epoch 9/12\n",
      "203/203 [==============================] - 7s 32ms/step - loss: 0.4655 - accuracy: 0.7904 - val_loss: 0.4896 - val_accuracy: 0.7778\n",
      "Epoch 10/12\n",
      "203/203 [==============================] - 7s 34ms/step - loss: 0.4631 - accuracy: 0.7916 - val_loss: 0.4916 - val_accuracy: 0.7818\n",
      "Epoch 11/12\n",
      "203/203 [==============================] - 6s 28ms/step - loss: 0.4596 - accuracy: 0.7943 - val_loss: 0.4878 - val_accuracy: 0.7796\n",
      "Epoch 12/12\n",
      "203/203 [==============================] - 6s 30ms/step - loss: 0.4578 - accuracy: 0.7966 - val_loss: 0.4927 - val_accuracy: 0.7799\n"
     ]
    }
   ],
   "source": [
    "history = model.fit(X_train, y_train,\n",
    "                    epochs=12,\n",
    "                    batch_size=128,\n",
    "                    validation_split=0.2)"
   ]
  },
  {
   "cell_type": "code",
   "execution_count": 12,
   "metadata": {},
   "outputs": [
    {
     "data": {
      "text/plain": [
       "0.3933655482261611"
      ]
     },
     "execution_count": 12,
     "metadata": {},
     "output_type": "execute_result"
    }
   ],
   "source": [
    "y_pred = np.round(model.predict(X_test))\n",
    "cohen_kappa_score(y_test, y_pred)"
   ]
  },
  {
   "cell_type": "code",
   "execution_count": 13,
   "metadata": {},
   "outputs": [
    {
     "data": {
      "text/plain": [
       "0.8436441727925993"
      ]
     },
     "execution_count": 13,
     "metadata": {},
     "output_type": "execute_result"
    }
   ],
   "source": [
    "f1_score(y_test, y_pred)"
   ]
  }
 ],
 "metadata": {
  "kernelspec": {
   "display_name": "Python 3 (ipykernel)",
   "language": "python",
   "name": "python3"
  },
  "language_info": {
   "codemirror_mode": {
    "name": "ipython",
    "version": 3
   },
   "file_extension": ".py",
   "mimetype": "text/x-python",
   "name": "python",
   "nbconvert_exporter": "python",
   "pygments_lexer": "ipython3",
   "version": "3.8.3"
  }
 },
 "nbformat": 4,
 "nbformat_minor": 4
}
