{
 "cells": [
  {
   "cell_type": "code",
   "execution_count": 83,
   "metadata": {},
   "outputs": [],
   "source": [
    "import gensim.downloader\n",
    "import matplotlib.pyplot as plt\n",
    "import numpy as np\n",
    "import pandas as pd\n",
    "import spacy\n",
    "from gensim.models import KeyedVectors\n",
    "from keras.layers import Dense, Flatten, LSTM, GRU, Bidirectional, Embedding\n",
    "from keras.models import Sequential\n",
    "from keras.preprocessing import sequence, text\n",
    "from sklearn.metrics import precision_score, recall_score, f1_score, cohen_kappa_score, classification_report\n",
    "from sklearn.model_selection import train_test_split\n",
    "from spacy.tokenizer import Tokenizer"
   ]
  },
  {
   "cell_type": "code",
   "execution_count": 84,
   "metadata": {},
   "outputs": [],
   "source": [
    "data = pd.read_csv('data\\preprocessed.csv').dropna()\n",
    "data = data[((data[\" 'European'\"]==1) | (data[\"'European'\"]==1))]"
   ]
  },
  {
   "cell_type": "code",
   "execution_count": 85,
   "metadata": {},
   "outputs": [],
   "source": [
    "nlp = spacy.load(\"en_core_web_sm\")\n",
    "#glove = gensim.downloader.load('glove-twitter-200')\n",
    "#glove.save(\"glove.model\")\n",
    "glove = KeyedVectors.load(\"glove.model\")"
   ]
  },
  {
   "cell_type": "code",
   "execution_count": 86,
   "metadata": {},
   "outputs": [],
   "source": [
    "def get_vector(sent):\n",
    "    for word in sent.lower().split(' '):\n",
    "        if word.isalpha() == True:\n",
    "            try:\n",
    "                return glove[word].tolist()\n",
    "            except KeyError:\n",
    "                return glove['unk'].tolist()\n",
    "        else:\n",
    "            return glove['unk'].tolist()"
   ]
  },
  {
   "cell_type": "code",
   "execution_count": 87,
   "metadata": {},
   "outputs": [],
   "source": [
    "def pad_trunc(data, maxlen):\n",
    "    new_data = []\n",
    "    zero_vector = []\n",
    "    for _ in range(len(data[0][0])):\n",
    "        zero_vector.append(0.0)\n",
    "    for sample in data:\n",
    "        if len(sample) > maxlen:\n",
    "            temp = sample[:maxlen]\n",
    "        elif len(sample) < maxlen:\n",
    "            temp = sample\n",
    "            additional_elems = maxlen - len(sample)\n",
    "            for _ in range(additional_elems):\n",
    "                temp.append(zero_vector)\n",
    "        else:\n",
    "            temp = sample\n",
    "        new_data.append(temp)\n",
    "        \n",
    "    return new_data"
   ]
  },
  {
   "cell_type": "code",
   "execution_count": 88,
   "metadata": {},
   "outputs": [],
   "source": [
    "data['vectors'] =  data['Reviews_cleaned'].apply(lambda x: [get_vector(x)])"
   ]
  },
  {
   "cell_type": "code",
   "execution_count": 89,
   "metadata": {},
   "outputs": [],
   "source": [
    "X = data['vectors']\n",
    "y = data[\"Category\"]\n",
    "X = np.array(pad_trunc(X, 3))"
   ]
  },
  {
   "cell_type": "code",
   "execution_count": 90,
   "metadata": {},
   "outputs": [],
   "source": [
    "X_train, X_test, y_train, y_test = train_test_split(X, y, test_size=0.2, random_state=1)"
   ]
  },
  {
   "cell_type": "code",
   "execution_count": 91,
   "metadata": {},
   "outputs": [
    {
     "data": {
      "text/plain": [
       "((10786, 3, 200), (2697, 3, 200), (13483, 3, 200))"
      ]
     },
     "execution_count": 91,
     "metadata": {},
     "output_type": "execute_result"
    }
   ],
   "source": [
    "X_train.shape, X_test.shape, X.shape"
   ]
  },
  {
   "cell_type": "code",
   "execution_count": 92,
   "metadata": {},
   "outputs": [],
   "source": [
    "model = Sequential()\n",
    "model.add(Bidirectional(LSTM(32, return_sequences=True, input_shape=(3,200), dropout=0.2, recurrent_dropout=0.2)))\n",
    "model.add(LSTM(32, dropout=0.2, recurrent_dropout=0.2))\n",
    "model.add(Dense(16, activation='relu'))\n",
    "model.add(Dense(8, activation='relu'))\n",
    "model.add(Dense(1, activation='sigmoid'))\n",
    "model.compile(optimizer='adam', loss='binary_crossentropy', metrics=['accuracy'])"
   ]
  },
  {
   "cell_type": "code",
   "execution_count": 93,
   "metadata": {},
   "outputs": [
    {
     "name": "stdout",
     "output_type": "stream",
     "text": [
      "Epoch 1/10\n",
      "540/540 [==============================] - 21s 19ms/step - loss: 0.4010 - accuracy: 0.8601 - val_loss: 0.3914 - val_accuracy: 0.8559\n",
      "Epoch 2/10\n",
      "540/540 [==============================] - 9s 17ms/step - loss: 0.3817 - accuracy: 0.8643 - val_loss: 0.3936 - val_accuracy: 0.8563\n",
      "Epoch 3/10\n",
      "540/540 [==============================] - 9s 16ms/step - loss: 0.3810 - accuracy: 0.8644 - val_loss: 0.3955 - val_accuracy: 0.8563\n",
      "Epoch 4/10\n",
      "540/540 [==============================] - 8s 15ms/step - loss: 0.3816 - accuracy: 0.8644 - val_loss: 0.3911 - val_accuracy: 0.8563\n",
      "Epoch 5/10\n",
      "540/540 [==============================] - 9s 16ms/step - loss: 0.3805 - accuracy: 0.8644 - val_loss: 0.3935 - val_accuracy: 0.8563\n",
      "Epoch 6/10\n",
      "540/540 [==============================] - 8s 15ms/step - loss: 0.3809 - accuracy: 0.8644 - val_loss: 0.3913 - val_accuracy: 0.8563\n",
      "Epoch 7/10\n",
      "540/540 [==============================] - 9s 17ms/step - loss: 0.3807 - accuracy: 0.8644 - val_loss: 0.3912 - val_accuracy: 0.8563\n",
      "Epoch 8/10\n",
      "540/540 [==============================] - 10s 18ms/step - loss: 0.3805 - accuracy: 0.8644 - val_loss: 0.3953 - val_accuracy: 0.8563\n",
      "Epoch 9/10\n",
      "540/540 [==============================] - 9s 17ms/step - loss: 0.3810 - accuracy: 0.8644 - val_loss: 0.3916 - val_accuracy: 0.8563\n",
      "Epoch 10/10\n",
      "540/540 [==============================] - 9s 17ms/step - loss: 0.3803 - accuracy: 0.8644 - val_loss: 0.3912 - val_accuracy: 0.8563\n"
     ]
    }
   ],
   "source": [
    "history = model.fit(X_train, y_train,\n",
    "                    epochs=10,\n",
    "                    batch_size=16,\n",
    "                    validation_split=0.2)"
   ]
  },
  {
   "cell_type": "code",
   "execution_count": 94,
   "metadata": {},
   "outputs": [
    {
     "data": {
      "text/plain": [
       "0.5591194621996916"
      ]
     },
     "execution_count": 94,
     "metadata": {},
     "output_type": "execute_result"
    }
   ],
   "source": [
    "y_pred = np.round(model.predict(X_test))\n",
    "cohen_kappa_score(y_test, y_pred)"
   ]
  },
  {
   "cell_type": "code",
   "execution_count": 95,
   "metadata": {},
   "outputs": [
    {
     "data": {
      "text/plain": [
       "0.919855920756416"
      ]
     },
     "execution_count": 95,
     "metadata": {},
     "output_type": "execute_result"
    }
   ],
   "source": [
    "f1_score(y_test, y_pred)"
   ]
  },
  {
   "cell_type": "code",
   "execution_count": 96,
   "metadata": {},
   "outputs": [
    {
     "name": "stdout",
     "output_type": "stream",
     "text": [
      "Epoch 1/10\n",
      "540/540 [==============================] - 21s 18ms/step - loss: 0.3950 - accuracy: 0.8607 - val_loss: 0.3931 - val_accuracy: 0.8563\n",
      "Epoch 2/10\n",
      "540/540 [==============================] - 9s 16ms/step - loss: 0.3823 - accuracy: 0.8644 - val_loss: 0.3916 - val_accuracy: 0.8563\n",
      "Epoch 3/10\n",
      "540/540 [==============================] - 9s 16ms/step - loss: 0.3816 - accuracy: 0.8644 - val_loss: 0.3944 - val_accuracy: 0.8563\n",
      "Epoch 4/10\n",
      "540/540 [==============================] - 8s 15ms/step - loss: 0.3815 - accuracy: 0.8644 - val_loss: 0.3935 - val_accuracy: 0.8559\n",
      "Epoch 5/10\n",
      "540/540 [==============================] - 8s 16ms/step - loss: 0.3807 - accuracy: 0.8644 - val_loss: 0.3921 - val_accuracy: 0.8563\n",
      "Epoch 6/10\n",
      "540/540 [==============================] - 9s 16ms/step - loss: 0.3809 - accuracy: 0.8644 - val_loss: 0.3915 - val_accuracy: 0.8563\n",
      "Epoch 7/10\n",
      "540/540 [==============================] - 8s 15ms/step - loss: 0.3805 - accuracy: 0.8644 - val_loss: 0.3975 - val_accuracy: 0.8559\n",
      "Epoch 8/10\n",
      "540/540 [==============================] - 9s 17ms/step - loss: 0.3811 - accuracy: 0.8643 - val_loss: 0.3920 - val_accuracy: 0.8563\n",
      "Epoch 9/10\n",
      "540/540 [==============================] - 12s 21ms/step - loss: 0.3805 - accuracy: 0.8644 - val_loss: 0.3909 - val_accuracy: 0.8563\n",
      "Epoch 10/10\n",
      "540/540 [==============================] - 10s 19ms/step - loss: 0.3810 - accuracy: 0.8643 - val_loss: 0.3923 - val_accuracy: 0.8563\n"
     ]
    }
   ],
   "source": [
    "model = Sequential()\n",
    "model.add(Bidirectional(GRU(32, return_sequences=True, input_shape=(3,200), dropout=0.2, recurrent_dropout=0.2)))\n",
    "model.add(GRU(32, dropout=0.2, recurrent_dropout=0.2))\n",
    "model.add(Dense(16, activation='relu'))\n",
    "model.add(Dense(8, activation='relu'))\n",
    "model.add(Dense(1, activation='sigmoid'))\n",
    "model.compile(optimizer='adam', loss='binary_crossentropy', metrics=['accuracy'])\n",
    "history = model.fit(X_train, y_train,\n",
    "                    epochs=10,\n",
    "                    batch_size=16,\n",
    "                    validation_split=0.2)"
   ]
  },
  {
   "cell_type": "code",
   "execution_count": 97,
   "metadata": {},
   "outputs": [
    {
     "data": {
      "text/plain": [
       "0.5591194621996916"
      ]
     },
     "execution_count": 97,
     "metadata": {},
     "output_type": "execute_result"
    }
   ],
   "source": [
    "y_pred = np.round(model.predict(X_test))\n",
    "cohen_kappa_score(y_test, y_pred)"
   ]
  },
  {
   "cell_type": "code",
   "execution_count": 98,
   "metadata": {},
   "outputs": [
    {
     "data": {
      "text/plain": [
       "0.919855920756416"
      ]
     },
     "execution_count": 98,
     "metadata": {},
     "output_type": "execute_result"
    }
   ],
   "source": [
    "f1_score(y_test, y_pred)"
   ]
  },
  {
   "cell_type": "code",
   "execution_count": null,
   "metadata": {},
   "outputs": [],
   "source": []
  }
 ],
 "metadata": {
  "kernelspec": {
   "display_name": "Python 3 (ipykernel)",
   "language": "python",
   "name": "python3"
  },
  "language_info": {
   "codemirror_mode": {
    "name": "ipython",
    "version": 3
   },
   "file_extension": ".py",
   "mimetype": "text/x-python",
   "name": "python",
   "nbconvert_exporter": "python",
   "pygments_lexer": "ipython3",
   "version": "3.8.3"
  }
 },
 "nbformat": 4,
 "nbformat_minor": 4
}
