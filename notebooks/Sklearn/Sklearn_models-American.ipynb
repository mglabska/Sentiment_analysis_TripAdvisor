{
 "cells": [
  {
   "cell_type": "code",
   "execution_count": 18,
   "metadata": {},
   "outputs": [],
   "source": [
    "import numpy as np\n",
    "import pandas as pd\n",
    "from sklearn.feature_extraction.text import TfidfVectorizer\n",
    "from sklearn.linear_model import LogisticRegression\n",
    "from sklearn.metrics import precision_score, recall_score, f1_score, cohen_kappa_score, classification_report\n",
    "from sklearn.model_selection import train_test_split\n",
    "from sklearn.naive_bayes import GaussianNB, BernoulliNB, CategoricalNB\n",
    "from sklearn.neighbors import KNeighborsClassifier"
   ]
  },
  {
   "cell_type": "code",
   "execution_count": 19,
   "metadata": {},
   "outputs": [],
   "source": [
    "data = pd.read_csv('data\\preprocessed.csv').dropna()"
   ]
  },
  {
   "cell_type": "code",
   "execution_count": 20,
   "metadata": {},
   "outputs": [],
   "source": [
    "X = data[\"Reviews_cleaned\"].loc[(data[\"'American'\"]==1)|(data[\" 'American'\"]==1)]\n",
    "y = data[\"Category\"].loc[(data[\"'American'\"]==1)|(data[\" 'American'\"]==1)]"
   ]
  },
  {
   "cell_type": "code",
   "execution_count": 21,
   "metadata": {},
   "outputs": [],
   "source": [
    "X_train, X_test, y_train, y_test = train_test_split(X, y, test_size=0.2, random_state=42, stratify=y)\n",
    "vectorizer = TfidfVectorizer(lowercase=False)\n",
    "vectorizer.fit(X_train)\n",
    "X_train = vectorizer.transform(X_train)\n",
    "X_test = vectorizer.transform(X_test)"
   ]
  },
  {
   "cell_type": "code",
   "execution_count": 22,
   "metadata": {},
   "outputs": [
    {
     "name": "stdout",
     "output_type": "stream",
     "text": [
      "Wyniki dla regresji logistycznej:\n",
      "              precision    recall  f1-score   support\n",
      "\n",
      "         0.0       0.73      0.66      0.69       170\n",
      "         1.0       0.73      0.79      0.75       196\n",
      "\n",
      "    accuracy                           0.73       366\n",
      "   macro avg       0.73      0.72      0.72       366\n",
      "weighted avg       0.73      0.73      0.73       366\n",
      "\n",
      "cohen_kappa_score: 0.44733027301280504\n",
      "f1_score: 0.7549019607843137\n"
     ]
    }
   ],
   "source": [
    "model_logreg = LogisticRegression(random_state=0).fit(X_train, y_train)\n",
    "y_true_logreg = y_test\n",
    "y_pred_logreg = model_logreg.predict(X_test)\n",
    "print('Wyniki dla regresji logistycznej:')\n",
    "print(classification_report(y_true_logreg, y_pred_logreg))\n",
    "print(f'cohen_kappa_score: {cohen_kappa_score(y_true_logreg, y_pred_logreg)}')\n",
    "print(f'f1_score: {f1_score(y_true_logreg, y_pred_logreg)}')"
   ]
  },
  {
   "cell_type": "code",
   "execution_count": 23,
   "metadata": {},
   "outputs": [
    {
     "name": "stdout",
     "output_type": "stream",
     "text": [
      "Wyniki dla KNN:\n",
      "              precision    recall  f1-score   support\n",
      "\n",
      "         0.0       0.63      0.64      0.64       170\n",
      "         1.0       0.69      0.68      0.68       196\n",
      "\n",
      "    accuracy                           0.66       366\n",
      "   macro avg       0.66      0.66      0.66       366\n",
      "weighted avg       0.66      0.66      0.66       366\n",
      "\n",
      "cohen_kappa_score: 0.3194985905355965\n",
      "f1_score: 0.6820512820512821\n"
     ]
    }
   ],
   "source": [
    "model_knn = KNeighborsClassifier(n_neighbors=20)\n",
    "model_knn.fit(X_train, y_train)\n",
    "y_true_knn = y_test\n",
    "y_pred_knn = model_knn.predict(X_test)\n",
    "print('Wyniki dla KNN:')\n",
    "print(classification_report(y_true_knn, y_pred_knn))\n",
    "print(f'cohen_kappa_score: {cohen_kappa_score(y_true_knn, y_pred_knn)}')\n",
    "print(f'f1_score: {f1_score(y_true_knn, y_pred_knn)}')"
   ]
  },
  {
   "cell_type": "code",
   "execution_count": 24,
   "metadata": {},
   "outputs": [
    {
     "name": "stdout",
     "output_type": "stream",
     "text": [
      "Wyniki dla NB:\n",
      "              precision    recall  f1-score   support\n",
      "\n",
      "         0.0       0.79      0.49      0.60       170\n",
      "         1.0       0.67      0.89      0.76       196\n",
      "\n",
      "    accuracy                           0.70       366\n",
      "   macro avg       0.73      0.69      0.68       366\n",
      "weighted avg       0.72      0.70      0.69       366\n",
      "\n",
      "cohen_kappa_score: 0.38577367205542723\n",
      "f1_score: 0.761487964989059\n"
     ]
    }
   ],
   "source": [
    "model_nb = BernoulliNB()\n",
    "model_nb.fit(X_train, y_train)\n",
    "y_true_nb = y_test\n",
    "y_pred_nb = model_nb.predict(X_test)\n",
    "print('Wyniki dla NB:')\n",
    "print(classification_report(y_true_nb, y_pred_nb))\n",
    "print(f'cohen_kappa_score: {cohen_kappa_score(y_true_nb, y_pred_nb)}')\n",
    "print(f'f1_score: {f1_score(y_true_nb, y_pred_nb)}')"
   ]
  },
  {
   "cell_type": "code",
   "execution_count": 25,
   "metadata": {},
   "outputs": [
    {
     "data": {
      "text/html": [
       "<div>\n",
       "<style scoped>\n",
       "    .dataframe tbody tr th:only-of-type {\n",
       "        vertical-align: middle;\n",
       "    }\n",
       "\n",
       "    .dataframe tbody tr th {\n",
       "        vertical-align: top;\n",
       "    }\n",
       "\n",
       "    .dataframe thead th {\n",
       "        text-align: right;\n",
       "    }\n",
       "</style>\n",
       "<table border=\"1\" class=\"dataframe\">\n",
       "  <thead>\n",
       "    <tr style=\"text-align: right;\">\n",
       "      <th></th>\n",
       "      <th>Unnamed: 0</th>\n",
       "      <th>City</th>\n",
       "      <th>Rating</th>\n",
       "      <th>Reviews</th>\n",
       "      <th>'Afghani'</th>\n",
       "      <th>'African'</th>\n",
       "      <th>'American'</th>\n",
       "      <th>'Arabic'</th>\n",
       "      <th>'Argentinean'</th>\n",
       "      <th>'Armenian'</th>\n",
       "      <th>...</th>\n",
       "      <th>'Vegetarian Friendly'</th>\n",
       "      <th>'Venezuelan'</th>\n",
       "      <th>'Vietnamese'</th>\n",
       "      <th>'Welsh'</th>\n",
       "      <th>'Wine Bar'</th>\n",
       "      <th>'Xinjiang'</th>\n",
       "      <th>'Yunnan'</th>\n",
       "      <th>'Guatemalan'</th>\n",
       "      <th>'Latvian'</th>\n",
       "      <th>Reviews_cleaned</th>\n",
       "    </tr>\n",
       "    <tr>\n",
       "      <th>Category</th>\n",
       "      <th></th>\n",
       "      <th></th>\n",
       "      <th></th>\n",
       "      <th></th>\n",
       "      <th></th>\n",
       "      <th></th>\n",
       "      <th></th>\n",
       "      <th></th>\n",
       "      <th></th>\n",
       "      <th></th>\n",
       "      <th></th>\n",
       "      <th></th>\n",
       "      <th></th>\n",
       "      <th></th>\n",
       "      <th></th>\n",
       "      <th></th>\n",
       "      <th></th>\n",
       "      <th></th>\n",
       "      <th></th>\n",
       "      <th></th>\n",
       "      <th></th>\n",
       "    </tr>\n",
       "  </thead>\n",
       "  <tbody>\n",
       "    <tr>\n",
       "      <th>0.0</th>\n",
       "      <td>849</td>\n",
       "      <td>849</td>\n",
       "      <td>849</td>\n",
       "      <td>849</td>\n",
       "      <td>849</td>\n",
       "      <td>849</td>\n",
       "      <td>849</td>\n",
       "      <td>849</td>\n",
       "      <td>849</td>\n",
       "      <td>849</td>\n",
       "      <td>...</td>\n",
       "      <td>849</td>\n",
       "      <td>849</td>\n",
       "      <td>849</td>\n",
       "      <td>849</td>\n",
       "      <td>849</td>\n",
       "      <td>849</td>\n",
       "      <td>849</td>\n",
       "      <td>849</td>\n",
       "      <td>849</td>\n",
       "      <td>849</td>\n",
       "    </tr>\n",
       "    <tr>\n",
       "      <th>1.0</th>\n",
       "      <td>977</td>\n",
       "      <td>977</td>\n",
       "      <td>977</td>\n",
       "      <td>977</td>\n",
       "      <td>977</td>\n",
       "      <td>977</td>\n",
       "      <td>977</td>\n",
       "      <td>977</td>\n",
       "      <td>977</td>\n",
       "      <td>977</td>\n",
       "      <td>...</td>\n",
       "      <td>977</td>\n",
       "      <td>977</td>\n",
       "      <td>977</td>\n",
       "      <td>977</td>\n",
       "      <td>977</td>\n",
       "      <td>977</td>\n",
       "      <td>977</td>\n",
       "      <td>977</td>\n",
       "      <td>977</td>\n",
       "      <td>977</td>\n",
       "    </tr>\n",
       "  </tbody>\n",
       "</table>\n",
       "<p>2 rows × 244 columns</p>\n",
       "</div>"
      ],
      "text/plain": [
       "          Unnamed: 0  City  Rating  Reviews  'Afghani'  'African'  'American'  \\\n",
       "Category                                                                        \n",
       "0.0              849   849     849      849        849        849         849   \n",
       "1.0              977   977     977      977        977        977         977   \n",
       "\n",
       "          'Arabic'  'Argentinean'  'Armenian'  ...   'Vegetarian Friendly'  \\\n",
       "Category                                       ...                           \n",
       "0.0            849            849         849  ...                     849   \n",
       "1.0            977            977         977  ...                     977   \n",
       "\n",
       "           'Venezuelan'   'Vietnamese'   'Welsh'   'Wine Bar'   'Xinjiang'  \\\n",
       "Category                                                                     \n",
       "0.0                 849            849       849          849          849   \n",
       "1.0                 977            977       977          977          977   \n",
       "\n",
       "           'Yunnan'   'Guatemalan'   'Latvian'  Reviews_cleaned  \n",
       "Category                                                         \n",
       "0.0             849            849         849              849  \n",
       "1.0             977            977         977              977  \n",
       "\n",
       "[2 rows x 244 columns]"
      ]
     },
     "execution_count": 25,
     "metadata": {},
     "output_type": "execute_result"
    }
   ],
   "source": [
    "data.loc[(data[\"'American'\"]==1)|(data[\" 'American'\"]==1)].groupby('Category').count()"
   ]
  },
  {
   "cell_type": "code",
   "execution_count": null,
   "metadata": {},
   "outputs": [],
   "source": []
  }
 ],
 "metadata": {
  "kernelspec": {
   "display_name": "Python 3 (ipykernel)",
   "language": "python",
   "name": "python3"
  },
  "language_info": {
   "codemirror_mode": {
    "name": "ipython",
    "version": 3
   },
   "file_extension": ".py",
   "mimetype": "text/x-python",
   "name": "python",
   "nbconvert_exporter": "python",
   "pygments_lexer": "ipython3",
   "version": "3.8.3"
  }
 },
 "nbformat": 4,
 "nbformat_minor": 4
}
