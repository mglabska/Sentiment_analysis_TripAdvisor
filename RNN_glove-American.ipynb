{
 "cells": [
  {
   "cell_type": "code",
   "execution_count": 26,
   "metadata": {},
   "outputs": [],
   "source": [
    "import gensim.downloader\n",
    "import matplotlib.pyplot as plt\n",
    "import numpy as np\n",
    "import pandas as pd\n",
    "import spacy\n",
    "from gensim.models import KeyedVectors\n",
    "from keras.layers import Dense, Flatten, LSTM, GRU, Bidirectional, Embedding\n",
    "from keras.models import Sequential\n",
    "from keras.preprocessing import sequence, text\n",
    "from sklearn.metrics import precision_score, recall_score, f1_score, cohen_kappa_score, classification_report\n",
    "from sklearn.model_selection import train_test_split\n",
    "from spacy.tokenizer import Tokenizer"
   ]
  },
  {
   "cell_type": "code",
   "execution_count": 27,
   "metadata": {},
   "outputs": [],
   "source": [
    "data = pd.read_csv('data\\preprocessed.csv').dropna()\n",
    "data = data[((data[\" 'American'\"]==1) | (data[\"'American'\"]==1))]"
   ]
  },
  {
   "cell_type": "code",
   "execution_count": 28,
   "metadata": {},
   "outputs": [],
   "source": [
    "nlp = spacy.load(\"en_core_web_sm\")\n",
    "#glove = gensim.downloader.load('glove-twitter-200')\n",
    "#glove.save(\"glove.model\")\n",
    "glove = KeyedVectors.load(\"glove.model\")"
   ]
  },
  {
   "cell_type": "code",
   "execution_count": 29,
   "metadata": {},
   "outputs": [],
   "source": [
    "def get_vector(sent):\n",
    "    for word in sent.lower().split(' '):\n",
    "        if word.isalpha() == True:\n",
    "            try:\n",
    "                return glove[word].tolist()\n",
    "            except KeyError:\n",
    "                return glove['unk'].tolist()\n",
    "        else:\n",
    "            return glove['unk'].tolist()"
   ]
  },
  {
   "cell_type": "code",
   "execution_count": 30,
   "metadata": {},
   "outputs": [],
   "source": [
    "def pad_trunc(data, maxlen):\n",
    "    new_data = []\n",
    "    zero_vector = []\n",
    "    for _ in range(len(data[10][0])):\n",
    "        zero_vector.append(0.0)\n",
    "    for sample in data:\n",
    "        if len(sample) > maxlen:\n",
    "            temp = sample[:maxlen]\n",
    "        elif len(sample) < maxlen:\n",
    "            temp = sample\n",
    "            additional_elems = maxlen - len(sample)\n",
    "            for _ in range(additional_elems):\n",
    "                temp.append(zero_vector)\n",
    "        else:\n",
    "            temp = sample\n",
    "        new_data.append(temp)\n",
    "        \n",
    "    return new_data"
   ]
  },
  {
   "cell_type": "code",
   "execution_count": 31,
   "metadata": {},
   "outputs": [],
   "source": [
    "data['vectors'] =  data['Reviews_cleaned'].apply(lambda x: [get_vector(x)])"
   ]
  },
  {
   "cell_type": "code",
   "execution_count": 32,
   "metadata": {},
   "outputs": [],
   "source": [
    "X = data['vectors']\n",
    "y = data[\"Category\"]\n",
    "X = np.array(pad_trunc(X, 3))"
   ]
  },
  {
   "cell_type": "code",
   "execution_count": 33,
   "metadata": {},
   "outputs": [],
   "source": [
    "X_train, X_test, y_train, y_test = train_test_split(X, y, test_size=0.2, random_state=1)"
   ]
  },
  {
   "cell_type": "code",
   "execution_count": 34,
   "metadata": {},
   "outputs": [
    {
     "data": {
      "text/plain": [
       "((1460, 3, 200), (366, 3, 200), (1826, 3, 200))"
      ]
     },
     "execution_count": 34,
     "metadata": {},
     "output_type": "execute_result"
    }
   ],
   "source": [
    "X_train.shape, X_test.shape, X.shape"
   ]
  },
  {
   "cell_type": "code",
   "execution_count": 35,
   "metadata": {},
   "outputs": [],
   "source": [
    "model = Sequential()\n",
    "model.add(Bidirectional(LSTM(32, return_sequences=True, input_shape=(3,200), dropout=0.2, recurrent_dropout=0.2)))\n",
    "model.add(LSTM(32, dropout=0.2, recurrent_dropout=0.2))\n",
    "model.add(Dense(16, activation='relu'))\n",
    "model.add(Dense(8, activation='relu'))\n",
    "model.add(Dense(1, activation='sigmoid'))\n",
    "model.compile(optimizer='adam', loss='binary_crossentropy', metrics=['accuracy'])"
   ]
  },
  {
   "cell_type": "code",
   "execution_count": 36,
   "metadata": {},
   "outputs": [
    {
     "name": "stdout",
     "output_type": "stream",
     "text": [
      "Epoch 1/10\n",
      "73/73 [==============================] - 12s 35ms/step - loss: 0.6436 - accuracy: 0.6952 - val_loss: 0.5996 - val_accuracy: 0.7329\n",
      "Epoch 2/10\n",
      "73/73 [==============================] - 1s 12ms/step - loss: 0.5368 - accuracy: 0.7346 - val_loss: 0.5054 - val_accuracy: 0.7329\n",
      "Epoch 3/10\n",
      "73/73 [==============================] - 1s 13ms/step - loss: 0.5116 - accuracy: 0.7346 - val_loss: 0.5045 - val_accuracy: 0.7329\n",
      "Epoch 4/10\n",
      "73/73 [==============================] - 1s 13ms/step - loss: 0.5119 - accuracy: 0.7346 - val_loss: 0.5078 - val_accuracy: 0.7329\n",
      "Epoch 5/10\n",
      "73/73 [==============================] - 1s 12ms/step - loss: 0.5143 - accuracy: 0.7346 - val_loss: 0.5034 - val_accuracy: 0.7329\n",
      "Epoch 6/10\n",
      "73/73 [==============================] - 1s 12ms/step - loss: 0.5126 - accuracy: 0.7346 - val_loss: 0.5047 - val_accuracy: 0.7329\n",
      "Epoch 7/10\n",
      "73/73 [==============================] - 1s 12ms/step - loss: 0.5106 - accuracy: 0.7346 - val_loss: 0.5039 - val_accuracy: 0.7329\n",
      "Epoch 8/10\n",
      "73/73 [==============================] - 1s 11ms/step - loss: 0.5127 - accuracy: 0.7346 - val_loss: 0.5039 - val_accuracy: 0.7329\n",
      "Epoch 9/10\n",
      "73/73 [==============================] - 1s 13ms/step - loss: 0.5118 - accuracy: 0.7346 - val_loss: 0.5036 - val_accuracy: 0.7329\n",
      "Epoch 10/10\n",
      "73/73 [==============================] - 1s 14ms/step - loss: 0.5123 - accuracy: 0.7346 - val_loss: 0.5033 - val_accuracy: 0.7329\n"
     ]
    }
   ],
   "source": [
    "history = model.fit(X_train, y_train,\n",
    "                    epochs=10,\n",
    "                    batch_size=16,\n",
    "                    validation_split=0.2)"
   ]
  },
  {
   "cell_type": "code",
   "execution_count": 37,
   "metadata": {},
   "outputs": [
    {
     "data": {
      "text/plain": [
       "0.46407875880117144"
      ]
     },
     "execution_count": 37,
     "metadata": {},
     "output_type": "execute_result"
    }
   ],
   "source": [
    "y_pred = np.round(model.predict(X_test))\n",
    "cohen_kappa_score(y_test, y_pred)"
   ]
  },
  {
   "cell_type": "code",
   "execution_count": 38,
   "metadata": {},
   "outputs": [
    {
     "data": {
      "text/plain": [
       "0.8065843621399177"
      ]
     },
     "execution_count": 38,
     "metadata": {},
     "output_type": "execute_result"
    }
   ],
   "source": [
    "f1_score(y_test, y_pred)"
   ]
  },
  {
   "cell_type": "code",
   "execution_count": 39,
   "metadata": {},
   "outputs": [
    {
     "name": "stdout",
     "output_type": "stream",
     "text": [
      "Epoch 1/10\n",
      "73/73 [==============================] - 12s 49ms/step - loss: 0.5862 - accuracy: 0.7080 - val_loss: 0.5073 - val_accuracy: 0.7329\n",
      "Epoch 2/10\n",
      "73/73 [==============================] - 1s 15ms/step - loss: 0.5140 - accuracy: 0.7346 - val_loss: 0.5102 - val_accuracy: 0.7329\n",
      "Epoch 3/10\n",
      "73/73 [==============================] - 1s 14ms/step - loss: 0.5149 - accuracy: 0.7346 - val_loss: 0.5048 - val_accuracy: 0.7329\n",
      "Epoch 4/10\n",
      "73/73 [==============================] - 1s 13ms/step - loss: 0.5126 - accuracy: 0.7346 - val_loss: 0.5037 - val_accuracy: 0.7329\n",
      "Epoch 5/10\n",
      "73/73 [==============================] - 1s 15ms/step - loss: 0.5120 - accuracy: 0.7346 - val_loss: 0.5034 - val_accuracy: 0.7329\n",
      "Epoch 6/10\n",
      "73/73 [==============================] - 1s 14ms/step - loss: 0.5116 - accuracy: 0.7346 - val_loss: 0.5042 - val_accuracy: 0.7329\n",
      "Epoch 7/10\n",
      "73/73 [==============================] - 2s 22ms/step - loss: 0.5117 - accuracy: 0.7346 - val_loss: 0.5033 - val_accuracy: 0.7329\n",
      "Epoch 8/10\n",
      "73/73 [==============================] - 1s 13ms/step - loss: 0.5112 - accuracy: 0.7346 - val_loss: 0.5047 - val_accuracy: 0.7329\n",
      "Epoch 9/10\n",
      "73/73 [==============================] - 1s 12ms/step - loss: 0.5141 - accuracy: 0.7346 - val_loss: 0.5039 - val_accuracy: 0.7329\n",
      "Epoch 10/10\n",
      "73/73 [==============================] - 1s 13ms/step - loss: 0.5125 - accuracy: 0.7346 - val_loss: 0.5066 - val_accuracy: 0.7329\n"
     ]
    }
   ],
   "source": [
    "model = Sequential()\n",
    "model.add(Bidirectional(GRU(32, return_sequences=True, input_shape=(3,200), dropout=0.2, recurrent_dropout=0.2)))\n",
    "model.add(GRU(32, dropout=0.2, recurrent_dropout=0.2))\n",
    "model.add(Dense(16, activation='relu'))\n",
    "model.add(Dense(8, activation='relu'))\n",
    "model.add(Dense(1, activation='sigmoid'))\n",
    "model.compile(optimizer='adam', loss='binary_crossentropy', metrics=['accuracy'])\n",
    "history = model.fit(X_train, y_train,\n",
    "                    epochs=10,\n",
    "                    batch_size=16,\n",
    "                    validation_split=0.2)"
   ]
  },
  {
   "cell_type": "code",
   "execution_count": 40,
   "metadata": {},
   "outputs": [
    {
     "data": {
      "text/plain": [
       "0.46407875880117144"
      ]
     },
     "execution_count": 40,
     "metadata": {},
     "output_type": "execute_result"
    }
   ],
   "source": [
    "y_pred = np.round(model.predict(X_test))\n",
    "cohen_kappa_score(y_test, y_pred)"
   ]
  },
  {
   "cell_type": "code",
   "execution_count": 41,
   "metadata": {},
   "outputs": [
    {
     "data": {
      "text/plain": [
       "0.8065843621399177"
      ]
     },
     "execution_count": 41,
     "metadata": {},
     "output_type": "execute_result"
    }
   ],
   "source": [
    "f1_score(y_test, y_pred)"
   ]
  }
 ],
 "metadata": {
  "kernelspec": {
   "display_name": "Python 3 (ipykernel)",
   "language": "python",
   "name": "python3"
  },
  "language_info": {
   "codemirror_mode": {
    "name": "ipython",
    "version": 3
   },
   "file_extension": ".py",
   "mimetype": "text/x-python",
   "name": "python",
   "nbconvert_exporter": "python",
   "pygments_lexer": "ipython3",
   "version": "3.8.3"
  }
 },
 "nbformat": 4,
 "nbformat_minor": 4
}
