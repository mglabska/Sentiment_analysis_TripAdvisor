{
 "cells": [
  {
   "cell_type": "code",
   "execution_count": 1,
   "metadata": {},
   "outputs": [],
   "source": [
    "import numpy as np\n",
    "import pandas as pd\n",
    "import regex as re\n",
    "import spacy\n",
    "import string\n",
    "\n",
    "#!python -m spacy download en_core_web_sm"
   ]
  },
  {
   "cell_type": "code",
   "execution_count": 2,
   "metadata": {},
   "outputs": [],
   "source": [
    "data = pd.read_csv('data\\TA_restaurants_curated.csv')[['Reviews', 'Cuisine Style', 'City', 'Rating']]"
   ]
  },
  {
   "cell_type": "code",
   "execution_count": 3,
   "metadata": {},
   "outputs": [],
   "source": [
    "data = data.drop(data.loc[data['Reviews'] == '[[], []]'].index).dropna()\n",
    "data = data.drop(data.loc[data['Rating'] == -1].index).dropna()"
   ]
  },
  {
   "cell_type": "code",
   "execution_count": 4,
   "metadata": {},
   "outputs": [],
   "source": [
    "def preproc_cuisine_style(data):\n",
    "    data['Cuisine Style']=data['Cuisine Style'].fillna(\"missing values\")\n",
    "    data['Cuisine Style']=data['Cuisine Style'].str.replace(\"[\",\"\")\n",
    "    data['Cuisine Style']=data['Cuisine Style'].str.replace(\"]\",\"\")\n",
    "    data['Cuisine Style']=data['Cuisine Style'].apply(lambda x: x.split(','))\n",
    "    data_preproc = pd.concat([data, pd.get_dummies(data['Cuisine Style'].apply(pd.Series), prefix='', prefix_sep='').sum(level=0, axis=1)],axis=1)\n",
    "    data_preproc.pop('Cuisine Style')\n",
    "    return data_preproc\n",
    "\n",
    "def preproc_reviews(data):\n",
    "    data['Reviews'] = data['Reviews'].apply(lambda x: re.findall('\\[\\[.*?\\]', str(x)))\n",
    "    data['Reviews'] = data['Reviews'].apply(lambda x: re.sub('\\[\\\"\\[\\[\\'', '', str(x)))\n",
    "    data['Reviews'] = data['Reviews'].apply(lambda x: re.sub('\\'\\]\\\"]', '', str(x)))\n",
    "    data[['Reviews_1', 'Reviews_2']] = data['Reviews'].str.split(\"', '\", 1, expand=True)\n",
    "    return data\n",
    "\n",
    "def split_reviews(data):\n",
    "    data_1 = data.drop(['Reviews', 'Reviews_2'], axis=1).rename(columns={'Reviews_1': 'Reviews'})\n",
    "    data_2 = data.drop(['Reviews', 'Reviews_1'], axis=1).rename(columns={'Reviews_2': 'Reviews'})\n",
    "    data_2 = data_2.drop(data_2.loc[data_2['Rating'] > 3.0].index)\n",
    "    new_data = data_1.append(data_2).dropna()\n",
    "    return new_data\n",
    "\n",
    "def clean_text(data_text):\n",
    "    text  = nlp_en_sm(data_text)\n",
    "    string_2=''\n",
    "    for token in text:\n",
    "        string_2=string_2 +' '+ token.lemma_\n",
    "    data_clean=string_2\n",
    "    data_clean = data_clean.split()\n",
    "    data_clean = [word for word in data_clean if not word in stop_words]\n",
    "    data_clean = ' '.join(map(str, data_clean))\n",
    "    return data_clean.strip(string.punctuation)\n",
    "\n",
    "def create_categories(column):\n",
    "    if column <= 3.0:\n",
    "        return 0    \n",
    "    elif column >=4.5:\n",
    "        return 1\n",
    "    else:\n",
    "        return None"
   ]
  },
  {
   "cell_type": "code",
   "execution_count": 5,
   "metadata": {},
   "outputs": [],
   "source": [
    "data = preproc_reviews(data)\n",
    "data = split_reviews(data)\n",
    "data = preproc_cuisine_style(data)\n",
    "data['Category'] = data['Rating'].apply(lambda x: create_categories(x))"
   ]
  },
  {
   "cell_type": "code",
   "execution_count": 6,
   "metadata": {},
   "outputs": [],
   "source": [
    "nlp_en_sm = spacy.load(\"en_core_web_sm\")\n",
    "stop_words = nlp_en_sm.Defaults.stop_words\n",
    "data[\"Reviews_cleaned\"] = data[\"Reviews\"].apply(clean_text)\n",
    "data = data.dropna()"
   ]
  },
  {
   "cell_type": "code",
   "execution_count": 7,
   "metadata": {},
   "outputs": [
    {
     "data": {
      "text/plain": [
       "Category\n",
       "0.0    12582\n",
       "1.0    28202\n",
       "Name: Rating, dtype: int64"
      ]
     },
     "execution_count": 7,
     "metadata": {},
     "output_type": "execute_result"
    }
   ],
   "source": [
    "data['Rating'].groupby(data['Category']).count()"
   ]
  },
  {
   "cell_type": "code",
   "execution_count": 8,
   "metadata": {},
   "outputs": [],
   "source": [
    "data.to_csv('data\\preprocessed.csv')"
   ]
  }
 ],
 "metadata": {
  "kernelspec": {
   "display_name": "Python 3 (ipykernel)",
   "language": "python",
   "name": "python3"
  },
  "language_info": {
   "codemirror_mode": {
    "name": "ipython",
    "version": 3
   },
   "file_extension": ".py",
   "mimetype": "text/x-python",
   "name": "python",
   "nbconvert_exporter": "python",
   "pygments_lexer": "ipython3",
   "version": "3.8.3"
  }
 },
 "nbformat": 4,
 "nbformat_minor": 4
}
