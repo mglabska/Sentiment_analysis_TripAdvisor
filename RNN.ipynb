{
 "cells": [
  {
   "cell_type": "code",
   "execution_count": 16,
   "metadata": {},
   "outputs": [],
   "source": [
    "import numpy as np\n",
    "import pandas as pd\n",
    "from keras.models import Sequential\n",
    "from keras.layers import Flatten, Dense, Embedding, LSTM, Bidirectional\n",
    "from keras.preprocessing.sequence import pad_sequences\n",
    "from keras.preprocessing.text import Tokenizer\n",
    "from sklearn.metrics import precision_score, recall_score, f1_score, cohen_kappa_score, classification_report\n",
    "from sklearn.model_selection import train_test_split"
   ]
  },
  {
   "cell_type": "code",
   "execution_count": 17,
   "metadata": {},
   "outputs": [],
   "source": [
    "data = pd.read_csv('data\\preprocessed.csv').dropna()"
   ]
  },
  {
   "cell_type": "code",
   "execution_count": 18,
   "metadata": {},
   "outputs": [],
   "source": [
    "X = data[\"Reviews_cleaned\"]\n",
    "y = data[\"Category\"]"
   ]
  },
  {
   "cell_type": "code",
   "execution_count": 19,
   "metadata": {},
   "outputs": [
    {
     "name": "stdout",
     "output_type": "stream",
     "text": [
      "Znaleziono 9705 unikatowych tokenów.\n",
      "Kształt tensora danych: (40700, 245)\n",
      "Kształt tensora etykiet: (40700,)\n"
     ]
    }
   ],
   "source": [
    "maxlen = 10\n",
    "max_words = 10000\n",
    "tokenizer = Tokenizer(num_words=max_words)\n",
    "tokenizer.fit_on_texts(X)\n",
    "sequences = tokenizer.texts_to_sequences(X)\n",
    "word_index = tokenizer.word_index\n",
    "print(f\"Znaleziono {len(word_index)} unikatowych tokenów.\")\n",
    "data_X = pad_sequences(sequences, maxlen=maxlen)\n",
    "print(f\"Kształt tensora danych: {data.shape}\") \n",
    "print(f\"Kształt tensora etykiet: {y.shape}\")"
   ]
  },
  {
   "cell_type": "code",
   "execution_count": 20,
   "metadata": {},
   "outputs": [],
   "source": [
    "X_train, X_test, y_train, y_test = train_test_split(data_X, y, test_size=0.2, random_state=42, stratify=y)"
   ]
  },
  {
   "cell_type": "code",
   "execution_count": 21,
   "metadata": {},
   "outputs": [],
   "source": [
    "X_train = pad_sequences(X_train, maxlen=maxlen)\n",
    "X_test = pad_sequences(X_test, maxlen=maxlen)"
   ]
  },
  {
   "cell_type": "code",
   "execution_count": 22,
   "metadata": {},
   "outputs": [
    {
     "data": {
      "text/plain": [
       "((32560, 10), (8140, 10), (40700,))"
      ]
     },
     "execution_count": 22,
     "metadata": {},
     "output_type": "execute_result"
    }
   ],
   "source": [
    "X_train.shape, X_test.shape, X.shape"
   ]
  },
  {
   "cell_type": "code",
   "execution_count": 23,
   "metadata": {},
   "outputs": [],
   "source": [
    "model = Sequential()\n",
    "model.add(Embedding(10000, 32))\n",
    "model.add(Bidirectional(LSTM(32, return_sequences=True)))\n",
    "model.add(LSTM(32))\n",
    "model.add(Dense(1, activation='sigmoid'))"
   ]
  },
  {
   "cell_type": "code",
   "execution_count": 24,
   "metadata": {},
   "outputs": [],
   "source": [
    "model.compile(optimizer='rmsprop', loss='binary_crossentropy', metrics=['accuracy'])"
   ]
  },
  {
   "cell_type": "code",
   "execution_count": 25,
   "metadata": {},
   "outputs": [
    {
     "name": "stdout",
     "output_type": "stream",
     "text": [
      "Epoch 1/15\n",
      "204/204 [==============================] - 12s 35ms/step - loss: 0.5132 - accuracy: 0.7561 - val_loss: 0.4708 - val_accuracy: 0.7752\n",
      "Epoch 2/15\n",
      "204/204 [==============================] - 6s 28ms/step - loss: 0.4331 - accuracy: 0.8100 - val_loss: 0.4539 - val_accuracy: 0.7947\n",
      "Epoch 3/15\n",
      "204/204 [==============================] - 6s 29ms/step - loss: 0.4158 - accuracy: 0.8214 - val_loss: 0.4480 - val_accuracy: 0.7953\n",
      "Epoch 4/15\n",
      "204/204 [==============================] - 6s 29ms/step - loss: 0.4048 - accuracy: 0.8291 - val_loss: 0.4577 - val_accuracy: 0.7889\n",
      "Epoch 5/15\n",
      "204/204 [==============================] - 6s 27ms/step - loss: 0.3970 - accuracy: 0.8344 - val_loss: 0.4588 - val_accuracy: 0.7885\n",
      "Epoch 6/15\n",
      "204/204 [==============================] - 6s 31ms/step - loss: 0.3902 - accuracy: 0.8395 - val_loss: 0.4528 - val_accuracy: 0.7948\n",
      "Epoch 7/15\n",
      "204/204 [==============================] - 6s 30ms/step - loss: 0.3855 - accuracy: 0.8410 - val_loss: 0.4733 - val_accuracy: 0.7810\n",
      "Epoch 8/15\n",
      "204/204 [==============================] - 6s 28ms/step - loss: 0.3790 - accuracy: 0.8442 - val_loss: 0.4596 - val_accuracy: 0.7930\n",
      "Epoch 9/15\n",
      "204/204 [==============================] - 6s 29ms/step - loss: 0.3757 - accuracy: 0.8463 - val_loss: 0.4654 - val_accuracy: 0.7913\n",
      "Epoch 10/15\n",
      "204/204 [==============================] - 6s 30ms/step - loss: 0.3699 - accuracy: 0.8488 - val_loss: 0.4664 - val_accuracy: 0.7902\n",
      "Epoch 11/15\n",
      "204/204 [==============================] - 7s 33ms/step - loss: 0.3661 - accuracy: 0.8510 - val_loss: 0.4644 - val_accuracy: 0.7890\n",
      "Epoch 12/15\n",
      "204/204 [==============================] - 7s 33ms/step - loss: 0.3619 - accuracy: 0.8520 - val_loss: 0.4878 - val_accuracy: 0.7861\n",
      "Epoch 13/15\n",
      "204/204 [==============================] - 6s 31ms/step - loss: 0.3580 - accuracy: 0.8536 - val_loss: 0.4776 - val_accuracy: 0.7849\n",
      "Epoch 14/15\n",
      "204/204 [==============================] - 6s 28ms/step - loss: 0.3533 - accuracy: 0.8557 - val_loss: 0.4978 - val_accuracy: 0.7815\n",
      "Epoch 15/15\n",
      "204/204 [==============================] - 5s 26ms/step - loss: 0.3504 - accuracy: 0.8579 - val_loss: 0.4797 - val_accuracy: 0.7876\n"
     ]
    }
   ],
   "source": [
    "history = model.fit(X_train, y_train,\n",
    "                    epochs=15,\n",
    "                    batch_size=128,\n",
    "                    validation_split=0.2)"
   ]
  },
  {
   "cell_type": "code",
   "execution_count": 26,
   "metadata": {},
   "outputs": [],
   "source": [
    "import matplotlib.pyplot as plt\n",
    "def plot_history(history, key=\"loss\"):\n",
    "    metric = history.history[key]\n",
    "    val_metric = history.history[f\"val_{key}\"]\n",
    "    epochs = range(len(metric))\n",
    "    plt.plot(epochs, metric, \"bo\", label=f\"{key} - train\")\n",
    "    plt.plot(epochs, val_metric, \"b\", label=f\"{key} - val\")\n",
    "    plt.title(f\"training - {key}\")\n",
    "    plt.legend()\n",
    "    plt.show()"
   ]
  },
  {
   "cell_type": "code",
   "execution_count": 27,
   "metadata": {},
   "outputs": [
    {
     "data": {
      "image/png": "[encoded data removed]",
      "text/plain": [
       "<Figure size 432x288 with 1 Axes>"
      ]
     },
     "metadata": {
      "needs_background": "light"
     },
     "output_type": "display_data"
    }
   ],
   "source": [
    "plot_history(history)"
   ]
  },
  {
   "cell_type": "code",
   "execution_count": 28,
   "metadata": {},
   "outputs": [
    {
     "name": "stdout",
     "output_type": "stream",
     "text": [
      "              precision    recall  f1-score   support\n",
      "\n",
      "         0.0       0.73      0.55      0.63      2509\n",
      "         1.0       0.82      0.91      0.86      5631\n",
      "\n",
      "    accuracy                           0.80      8140\n",
      "   macro avg       0.78      0.73      0.75      8140\n",
      "weighted avg       0.79      0.80      0.79      8140\n",
      "\n"
     ]
    }
   ],
   "source": [
    "y_pred = np.round(model.predict(X_test))\n",
    "print(classification_report(y_test, y_pred))"
   ]
  },
  {
   "cell_type": "code",
   "execution_count": 29,
   "metadata": {},
   "outputs": [
    {
     "data": {
      "text/plain": [
       "0.49528428517793477"
      ]
     },
     "execution_count": 29,
     "metadata": {},
     "output_type": "execute_result"
    }
   ],
   "source": [
    "cohen_kappa_score(y_test, y_pred)"
   ]
  },
  {
   "cell_type": "code",
   "execution_count": 30,
   "metadata": {},
   "outputs": [
    {
     "data": {
      "text/plain": [
       "0.8626493856253156"
      ]
     },
     "execution_count": 30,
     "metadata": {},
     "output_type": "execute_result"
    }
   ],
   "source": [
    "f1_score(y_test, y_pred)"
   ]
  }
 ],
 "metadata": {
  "kernelspec": {
   "display_name": "Python 3 (ipykernel)",
   "language": "python",
   "name": "python3"
  },
  "language_info": {
   "codemirror_mode": {
    "name": "ipython",
    "version": 3
   },
   "file_extension": ".py",
   "mimetype": "text/x-python",
   "name": "python",
   "nbconvert_exporter": "python",
   "pygments_lexer": "ipython3",
   "version": "3.8.3"
  }
 },
 "nbformat": 4,
 "nbformat_minor": 4
}
